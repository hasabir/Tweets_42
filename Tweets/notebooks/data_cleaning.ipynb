{
 "cells": [
  {
   "cell_type": "markdown",
   "metadata": {},
   "source": [
    "### Load data"
   ]
  },
  {
   "cell_type": "code",
   "execution_count": null,
   "metadata": {},
   "outputs": [],
   "source": [
    "import pandas as pd\n",
    "import numpy as np \n",
    "import matplotlib.pyplot as plt\n",
    "import seaborn as sns\n",
    "import nltk\n",
    "\n",
    "def load_data():\n",
    "    plt.style.use('ggplot')\n",
    "\n",
    "\n",
    "    positive = pd.DataFrame()\n",
    "    negative = pd.DataFrame()\n",
    "    neutral = pd.DataFrame()\n",
    "\n",
    "    positive[\"positive\"] = pd.read_csv('../data/raw/processedPositive.csv', header=None ).T.squeeze()\n",
    "    negative[\"negative\"] = pd.read_csv('../data/raw/processedNegative.csv', header=None).T.squeeze()\n",
    "    neutral[\"neutral\"] = pd.read_csv('../data/raw/processedNeutral.csv', header=None).T.squeeze()\n",
    "\n",
    "    merged = pd.merge(positive, negative, left_index=True, right_index=True)\n",
    "    data_frame = pd.merge(merged, neutral, left_index=True, right_index=True)\n",
    "\n",
    "\n",
    "    data_frame = data_frame.fillna('').astype(str)\n",
    "    return data_frame"
   ]
  }
 ],
 "metadata": {
  "kernelspec": {
   "display_name": "ai",
   "language": "python",
   "name": "python3"
  },
  "language_info": {
   "codemirror_mode": {
    "name": "ipython",
    "version": 3
   },
   "file_extension": ".py",
   "mimetype": "text/x-python",
   "name": "python",
   "nbconvert_exporter": "python",
   "pygments_lexer": "ipython3",
   "version": "3.12.4"
  }
 },
 "nbformat": 4,
 "nbformat_minor": 2
}

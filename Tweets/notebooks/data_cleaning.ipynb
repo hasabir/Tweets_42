{
 "cells": [
  {
   "cell_type": "markdown",
   "metadata": {},
   "source": [
    "### Load data"
   ]
  },
  {
   "cell_type": "code",
   "execution_count": 2,
   "metadata": {},
   "outputs": [],
   "source": [
    "import pandas as pd\n",
    "import numpy as np \n",
    "import matplotlib.pyplot as plt\n",
    "import seaborn as sns\n",
    "import nltk\n",
    "\n",
    "def load_data():\n",
    "    plt.style.use('ggplot')\n",
    "\n",
    "\n",
    "    positive = pd.DataFrame()\n",
    "    negative = pd.DataFrame()\n",
    "    neutral = pd.DataFrame()\n",
    "\n",
    "    positive[\"positive\"] = pd.read_csv('../data/raw/processedPositive.csv', header=None ).T.squeeze()\n",
    "    negative[\"negative\"] = pd.read_csv('../data/raw/processedNegative.csv', header=None).T.squeeze()\n",
    "    neutral[\"neutral\"] = pd.read_csv('../data/raw/processedNeutral.csv', header=None).T.squeeze()\n",
    "\n",
    "    merged = pd.merge(positive, negative, left_index=True, right_index=True)\n",
    "    data_frame = pd.merge(merged, neutral, left_index=True, right_index=True)\n",
    "\n",
    "\n",
    "    data_frame = data_frame.fillna('').astype(str)\n",
    "    return data_frame"
   ]
  },
  {
   "cell_type": "code",
   "execution_count": 2,
   "metadata": {},
   "outputs": [
    {
     "data": {
      "text/html": [
       "<div>\n",
       "<style scoped>\n",
       "    .dataframe tbody tr th:only-of-type {\n",
       "        vertical-align: middle;\n",
       "    }\n",
       "\n",
       "    .dataframe tbody tr th {\n",
       "        vertical-align: top;\n",
       "    }\n",
       "\n",
       "    .dataframe thead th {\n",
       "        text-align: right;\n",
       "    }\n",
       "</style>\n",
       "<table border=\"1\" class=\"dataframe\">\n",
       "  <thead>\n",
       "    <tr style=\"text-align: right;\">\n",
       "      <th></th>\n",
       "      <th>positive</th>\n",
       "      <th>negative</th>\n",
       "      <th>neutral</th>\n",
       "    </tr>\n",
       "  </thead>\n",
       "  <tbody>\n",
       "    <tr>\n",
       "      <th>0</th>\n",
       "      <td>An insperation in all aspects: Fashion</td>\n",
       "      <td>How unhappy  some dogs like it though</td>\n",
       "      <td>Pak PM survives removal scare</td>\n",
       "    </tr>\n",
       "    <tr>\n",
       "      <th>1</th>\n",
       "      <td>fitness</td>\n",
       "      <td>talking to my over driver about where I'm goin...</td>\n",
       "      <td>but court orders further probe into corruptio...</td>\n",
       "    </tr>\n",
       "    <tr>\n",
       "      <th>2</th>\n",
       "      <td>beauty and personality. :)KISSES TheFashionIcon</td>\n",
       "      <td>Does anybody know if the Rand's likely to fall...</td>\n",
       "      <td>Supreme Court quashes criminal complaint again...</td>\n",
       "    </tr>\n",
       "    <tr>\n",
       "      <th>3</th>\n",
       "      <td>Apka Apna Awam Ka Channel Frankline Tv Aam Adm...</td>\n",
       "      <td>I miss going to gigs in Liverpool unhappy</td>\n",
       "      <td>Art of Living's fights back over Yamuna floodp...</td>\n",
       "    </tr>\n",
       "    <tr>\n",
       "      <th>4</th>\n",
       "      <td>Beautiful album from  the greatest unsung guit...</td>\n",
       "      <td>There isnt a new Riverdale tonight ? unhappy</td>\n",
       "      <td>livid.</td>\n",
       "    </tr>\n",
       "    <tr>\n",
       "      <th>...</th>\n",
       "      <td>...</td>\n",
       "      <td>...</td>\n",
       "      <td>...</td>\n",
       "    </tr>\n",
       "    <tr>\n",
       "      <th>1112</th>\n",
       "      <td>CSGOBOUNTY GIVEAWAY - 1 random KEY. 25 RETWEETS</td>\n",
       "      <td>wish knock out lang talaga for the new school ...</td>\n",
       "      <td>AAP govt moves SC for setting up 5-judge const...</td>\n",
       "    </tr>\n",
       "    <tr>\n",
       "      <th>1113</th>\n",
       "      <td>random winner :D Retweet AND LIKE to be able ...</td>\n",
       "      <td>i miss so much unhappy</td>\n",
       "      <td>12-15% turnout till 10 AM in phase-IV.</td>\n",
       "    </tr>\n",
       "    <tr>\n",
       "      <th>1114</th>\n",
       "      <td>Thanks for the recent follow Happy to connect ...</td>\n",
       "      <td>Same unhappy</td>\n",
       "      <td>Telecom operator will acquire the business of ...</td>\n",
       "    </tr>\n",
       "    <tr>\n",
       "      <th>1115</th>\n",
       "      <td>You are welcome happy</td>\n",
       "      <td>Hi instant message your friend  friend lang</td>\n",
       "      <td>A statement on the terrorist initiated inciden...</td>\n",
       "    </tr>\n",
       "    <tr>\n",
       "      <th>1116</th>\n",
       "      <td>This makes a great point</td>\n",
       "      <td>hindi close friend? unhappy</td>\n",
       "      <td>JK is attached</td>\n",
       "    </tr>\n",
       "  </tbody>\n",
       "</table>\n",
       "<p>1117 rows × 3 columns</p>\n",
       "</div>"
      ],
      "text/plain": [
       "                                               positive  \\\n",
       "0                An insperation in all aspects: Fashion   \n",
       "1                                               fitness   \n",
       "2       beauty and personality. :)KISSES TheFashionIcon   \n",
       "3     Apka Apna Awam Ka Channel Frankline Tv Aam Adm...   \n",
       "4     Beautiful album from  the greatest unsung guit...   \n",
       "...                                                 ...   \n",
       "1112    CSGOBOUNTY GIVEAWAY - 1 random KEY. 25 RETWEETS   \n",
       "1113   random winner :D Retweet AND LIKE to be able ...   \n",
       "1114  Thanks for the recent follow Happy to connect ...   \n",
       "1115                              You are welcome happy   \n",
       "1116                           This makes a great point   \n",
       "\n",
       "                                               negative  \\\n",
       "0                 How unhappy  some dogs like it though   \n",
       "1     talking to my over driver about where I'm goin...   \n",
       "2     Does anybody know if the Rand's likely to fall...   \n",
       "3            I miss going to gigs in Liverpool unhappy    \n",
       "4         There isnt a new Riverdale tonight ? unhappy    \n",
       "...                                                 ...   \n",
       "1112  wish knock out lang talaga for the new school ...   \n",
       "1113                            i miss so much unhappy    \n",
       "1114                                      Same unhappy    \n",
       "1115        Hi instant message your friend  friend lang   \n",
       "1116                        hindi close friend? unhappy   \n",
       "\n",
       "                                                neutral  \n",
       "0                         Pak PM survives removal scare  \n",
       "1      but court orders further probe into corruptio...  \n",
       "2     Supreme Court quashes criminal complaint again...  \n",
       "3     Art of Living's fights back over Yamuna floodp...  \n",
       "4                                               livid.   \n",
       "...                                                 ...  \n",
       "1112  AAP govt moves SC for setting up 5-judge const...  \n",
       "1113             12-15% turnout till 10 AM in phase-IV.  \n",
       "1114  Telecom operator will acquire the business of ...  \n",
       "1115  A statement on the terrorist initiated inciden...  \n",
       "1116                                    JK is attached   \n",
       "\n",
       "[1117 rows x 3 columns]"
      ]
     },
     "execution_count": 2,
     "metadata": {},
     "output_type": "execute_result"
    }
   ],
   "source": [
    "load_data()"
   ]
  },
  {
   "cell_type": "code",
   "execution_count": 3,
   "metadata": {},
   "outputs": [
    {
     "data": {
      "text/plain": [
       "(0, 1186)"
      ]
     },
     "execution_count": 3,
     "metadata": {},
     "output_type": "execute_result"
    }
   ],
   "source": [
    "pd.read_csv('../data/raw/processedPositive.csv').shape"
   ]
  }
 ],
 "metadata": {
  "kernelspec": {
   "display_name": "ai",
   "language": "python",
   "name": "python3"
  },
  "language_info": {
   "codemirror_mode": {
    "name": "ipython",
    "version": 3
   },
   "file_extension": ".py",
   "mimetype": "text/x-python",
   "name": "python",
   "nbconvert_exporter": "python",
   "pygments_lexer": "ipython3",
   "version": "3.12.1"
  }
 },
 "nbformat": 4,
 "nbformat_minor": 2
}

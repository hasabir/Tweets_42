{
 "cells": [
  {
   "cell_type": "markdown",
   "metadata": {},
   "source": [
    "### Load data"
   ]
  },
  {
   "cell_type": "code",
   "execution_count": 1,
   "metadata": {},
   "outputs": [
    {
     "ename": "ModuleNotFoundError",
     "evalue": "No module named 'spacy'",
     "output_type": "error",
     "traceback": [
      "\u001b[0;31m---------------------------------------------------------------------------\u001b[0m",
      "\u001b[0;31mModuleNotFoundError\u001b[0m                       Traceback (most recent call last)",
      "\u001b[1;32m/workspaces/Tweets_42/src/Tweets/notebooks/vectorization.ipynb Cell 2\u001b[0m line \u001b[0;36m5\n\u001b[1;32m      <a href='vscode-notebook-cell://codespaces%2Bsymmetrical-space-spoon-7jv956r66v9f49r/workspaces/Tweets_42/src/Tweets/notebooks/vectorization.ipynb#W1sdnNjb2RlLXJlbW90ZQ%3D%3D?line=1'>2</a>\u001b[0m \u001b[39mimport\u001b[39;00m \u001b[39mos\u001b[39;00m\n\u001b[1;32m      <a href='vscode-notebook-cell://codespaces%2Bsymmetrical-space-spoon-7jv956r66v9f49r/workspaces/Tweets_42/src/Tweets/notebooks/vectorization.ipynb#W1sdnNjb2RlLXJlbW90ZQ%3D%3D?line=2'>3</a>\u001b[0m sys\u001b[39m.\u001b[39mpath\u001b[39m.\u001b[39minsert(\u001b[39m0\u001b[39m, os\u001b[39m.\u001b[39mpath\u001b[39m.\u001b[39mabspath(os\u001b[39m.\u001b[39mpath\u001b[39m.\u001b[39mjoin(os\u001b[39m.\u001b[39mgetcwd(), \u001b[39m'\u001b[39m\u001b[39m../\u001b[39m\u001b[39m'\u001b[39m)))\n\u001b[0;32m----> <a href='vscode-notebook-cell://codespaces%2Bsymmetrical-space-spoon-7jv956r66v9f49r/workspaces/Tweets_42/src/Tweets/notebooks/vectorization.ipynb#W1sdnNjb2RlLXJlbW90ZQ%3D%3D?line=4'>5</a>\u001b[0m \u001b[39mfrom\u001b[39;00m \u001b[39msrc\u001b[39;00m\u001b[39m.\u001b[39;00m\u001b[39mpreprocessing\u001b[39;00m \u001b[39mimport\u001b[39;00m Preprocessing\n\u001b[1;32m      <a href='vscode-notebook-cell://codespaces%2Bsymmetrical-space-spoon-7jv956r66v9f49r/workspaces/Tweets_42/src/Tweets/notebooks/vectorization.ipynb#W1sdnNjb2RlLXJlbW90ZQ%3D%3D?line=5'>6</a>\u001b[0m \u001b[39mfrom\u001b[39;00m \u001b[39msrc\u001b[39;00m\u001b[39m.\u001b[39;00m\u001b[39mdata_cleaning\u001b[39;00m \u001b[39mimport\u001b[39;00m DataCleaning\n\u001b[1;32m      <a href='vscode-notebook-cell://codespaces%2Bsymmetrical-space-spoon-7jv956r66v9f49r/workspaces/Tweets_42/src/Tweets/notebooks/vectorization.ipynb#W1sdnNjb2RlLXJlbW90ZQ%3D%3D?line=8'>9</a>\u001b[0m data_frame \u001b[39m=\u001b[39m DataCleaning\u001b[39m.\u001b[39mload_data()\n",
      "File \u001b[0;32m/workspaces/Tweets_42/src/Tweets/src/preprocessing.py:1\u001b[0m\n\u001b[0;32m----> 1\u001b[0m \u001b[39mimport\u001b[39;00m \u001b[39mspacy\u001b[39;00m\n\u001b[1;32m      2\u001b[0m \u001b[39mimport\u001b[39;00m \u001b[39mnltk\u001b[39;00m\n\u001b[1;32m      3\u001b[0m \u001b[39mfrom\u001b[39;00m \u001b[39mnltk\u001b[39;00m\u001b[39m.\u001b[39;00m\u001b[39mcorpus\u001b[39;00m \u001b[39mimport\u001b[39;00m words\n",
      "\u001b[0;31mModuleNotFoundError\u001b[0m: No module named 'spacy'"
     ]
    }
   ],
   "source": [
    "import sys\n",
    "import os\n",
    "sys.path.insert(0, os.path.abspath(os.path.join(os.getcwd(), '../')))\n",
    "\n",
    "from src.preprocessing import Preprocessing\n",
    "from src.data_cleaning import DataCleaning\n",
    "\n",
    "\n",
    "data_frame = DataCleaning.load_data()"
   ]
  },
  {
   "cell_type": "markdown",
   "metadata": {},
   "source": [
    "---\n"
   ]
  },
  {
   "cell_type": "markdown",
   "metadata": {},
   "source": [
    "----"
   ]
  },
  {
   "cell_type": "markdown",
   "metadata": {},
   "source": [
    "# Bag of words (BoW)"
   ]
  },
  {
   "cell_type": "markdown",
   "metadata": {},
   "source": [
    "----"
   ]
  },
  {
   "cell_type": "code",
   "execution_count": null,
   "metadata": {},
   "outputs": [],
   "source": [
    "def bag_of_words(data_frame: list) -> dict:\n",
    "    bag_of_words = {}\n",
    "    for data in data_frame:\n",
    "        for word in data:\n",
    "            if word in bag_of_words:\n",
    "                bag_of_words[word] += 1\n",
    "            else:\n",
    "                bag_of_words[word] = 1\n",
    "    return bag_of_words"
   ]
  },
  {
   "cell_type": "code",
   "execution_count": null,
   "metadata": {},
   "outputs": [],
   "source": [
    "import pandas as pd\n",
    "\n",
    "def generate_bow_vectors(tokens_positive, tokens_negative, tokens_neutral):\n",
    "    positive_bow = pd.DataFrame.from_dict(bag_of_words(tokens_positive), orient='index', columns=['Positive']).T\n",
    "    negative_bow = pd.DataFrame.from_dict(bag_of_words(tokens_negative), orient='index', columns=['Negative']).T\n",
    "    neutral_bow = pd.DataFrame.from_dict(bag_of_words(tokens_neutral), orient='index', columns=['Neutral']).T\n",
    "\n",
    "    bow_vectors = pd.concat([positive_bow, negative_bow, neutral_bow], axis=0)\n",
    "    bow_vectors.fillna(0, inplace=True)\n",
    "\n",
    "    return bow_vectors\n"
   ]
  },
  {
   "cell_type": "markdown",
   "metadata": {},
   "source": [
    "#### Bag of words with just tokenization"
   ]
  },
  {
   "cell_type": "code",
   "execution_count": 21,
   "metadata": {},
   "outputs": [],
   "source": [
    "\n",
    "tokens_positive = Preprocessing.tokenization(data_frame[\"positive\"])\n",
    "tokens_negative = Preprocessing.tokenization(data_frame[\"negative\"])\n",
    "tokens_neutral = Preprocessing.tokenization(data_frame[\"neutral\"])\n",
    "\n",
    "bow_vectors = generate_bow_vectors(tokens_positive, tokens_negative, tokens_neutral)\n",
    "bow_vectors.to_csv(\"bow_vectors.csv\")"
   ]
  },
  {
   "cell_type": "markdown",
   "metadata": {},
   "source": [
    "#### Bag of words with stemming"
   ]
  },
  {
   "cell_type": "code",
   "execution_count": null,
   "metadata": {},
   "outputs": [],
   "source": [
    "stemming_positive = Preprocessing.stemming(data_frame=data_frame[\"positive\"])\n",
    "stemming_negative = Preprocessing.stemming(data_frame=data_frame[\"negative\"])\n",
    "stemming_neutral = Preprocessing.stemming(data_frame=data_frame[\"neutral\"])\n",
    "\n",
    "\n",
    "bow_vectors_stemming = generate_bow_vectors(stemming_positive, stemming_negative, stemming_neutral)\n",
    "bow_vectors_stemming"
   ]
  },
  {
   "cell_type": "markdown",
   "metadata": {},
   "source": [
    "#### BoW with Lemmatization"
   ]
  },
  {
   "cell_type": "code",
   "execution_count": null,
   "metadata": {},
   "outputs": [],
   "source": [
    "lemmatization_positive = Preprocessing.lemmatization(data_frame=data_frame[\"positive\"])\n",
    "lemmatization_negative = Preprocessing.lemmatization(data_frame=data_frame[\"negative\"])\n",
    "lemmatization_neutral = Preprocessing.lemmatization(data_frame=data_frame[\"neutral\"])\n",
    "\n",
    "bow_vectors_lemmatization = generate_bow_vectors(lemmatization_positive, lemmatization_negative, lemmatization_neutral)\n",
    "bow_vectors_lemmatization "
   ]
  },
  {
   "cell_type": "markdown",
   "metadata": {},
   "source": [
    "### Term Frequency-Inverse Document Frequency (TF-IDF)"
   ]
  },
  {
   "cell_type": "code",
   "execution_count": null,
   "metadata": {},
   "outputs": [],
   "source": [
    "def tf_idf(data_set):\n",
    "    pass"
   ]
  },
  {
   "cell_type": "code",
   "execution_count": null,
   "metadata": {},
   "outputs": [],
   "source": []
  },
  {
   "cell_type": "markdown",
   "metadata": {},
   "source": []
  }
 ],
 "metadata": {
  "kernelspec": {
   "display_name": "ai",
   "language": "python",
   "name": "python3"
  },
  "language_info": {
   "codemirror_mode": {
    "name": "ipython",
    "version": 3
   },
   "file_extension": ".py",
   "mimetype": "text/x-python",
   "name": "python",
   "nbconvert_exporter": "python",
   "pygments_lexer": "ipython3",
   "version": "3.12.4"
  }
 },
 "nbformat": 4,
 "nbformat_minor": 2
}

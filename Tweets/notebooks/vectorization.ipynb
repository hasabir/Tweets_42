{
 "cells": [
  {
   "cell_type": "markdown",
   "metadata": {},
   "source": [
    "### Load data"
   ]
  },
  {
   "cell_type": "code",
   "execution_count": 1,
   "metadata": {},
   "outputs": [
    {
     "name": "stderr",
     "output_type": "stream",
     "text": [
      "[nltk_data] Downloading package words to /home/codespace/nltk_data...\n",
      "[nltk_data]   Package words is already up-to-date!\n"
     ]
    }
   ],
   "source": [
    "import sys\n",
    "import os\n",
    "sys.path.insert(0, os.path.abspath(os.path.join(os.getcwd(), '../')))\n",
    "\n",
    "from src.preprocessing import Preprocessing\n",
    "from src.data_cleaning import DataCleaning\n",
    "\n",
    "\n",
    "data_set = DataCleaning.load_data()\n",
    "sentiments = ['positive', 'negative', 'neutral']"
   ]
  },
  {
   "cell_type": "markdown",
   "metadata": {},
   "source": [
    "---\n"
   ]
  },
  {
   "cell_type": "markdown",
   "metadata": {},
   "source": [
    "----"
   ]
  },
  {
   "cell_type": "markdown",
   "metadata": {},
   "source": [
    "# Bag of words (BoW)"
   ]
  },
  {
   "cell_type": "markdown",
   "metadata": {},
   "source": [
    "----"
   ]
  },
  {
   "cell_type": "code",
   "execution_count": 2,
   "metadata": {},
   "outputs": [],
   "source": [
    "import pandas as pd\n",
    "\n",
    "def _generate_word_frequencies(tokens):\n",
    "    word_frequencies = {}\n",
    "    for token_list in tokens:\n",
    "        for token in token_list:\n",
    "            word_frequencies[token] = word_frequencies.get(token, 0) + 1\n",
    "    return word_frequencies\n",
    "\n",
    "def bag_of_words(tokens_positive, tokens_negative, tokens_neutral) -> dict:\n",
    "    positive_bow = pd.DataFrame.from_dict(_generate_word_frequencies(tokens_positive), orient='index', columns=['Positive']).T\n",
    "    negative_bow = pd.DataFrame.from_dict(_generate_word_frequencies(tokens_negative), orient='index', columns=['Negative']).T\n",
    "    neutral_bow = pd.DataFrame.from_dict(_generate_word_frequencies(tokens_neutral), orient='index', columns=['Neutral']).T\n",
    "\n",
    "    bow_vectors = pd.concat([positive_bow, negative_bow, neutral_bow], axis=0)\n",
    "    bow_vectors.fillna(0, inplace=True)\n",
    "\n",
    "    return bow_vectors"
   ]
  },
  {
   "cell_type": "code",
   "execution_count": 79,
   "metadata": {},
   "outputs": [],
   "source": [
    "def test_BoW(vectorization_technique, data_set):\n",
    "    tokens_positive = vectorization_technique(data_set[\"positive\"])\n",
    "    tokens_negative = vectorization_technique(data_set[\"negative\"])\n",
    "    tokens_neutral = vectorization_technique(data_set[\"neutral\"])\n",
    "\n",
    "    bow_vectors = bag_of_words(tokens_positive, tokens_negative, tokens_neutral)\n",
    "    print(bow_vectors)\n",
    "    # bow_vectors.to_csv(\"bow_vectors.csv\")"
   ]
  },
  {
   "cell_type": "markdown",
   "metadata": {},
   "source": [
    "#### Bag of words with just tokenization"
   ]
  },
  {
   "cell_type": "code",
   "execution_count": 77,
   "metadata": {},
   "outputs": [],
   "source": [
    "test_BoW(Preprocessing.tokenization, data_set)"
   ]
  },
  {
   "cell_type": "markdown",
   "metadata": {},
   "source": [
    "#### Bag of words with stemming"
   ]
  },
  {
   "cell_type": "code",
   "execution_count": null,
   "metadata": {},
   "outputs": [],
   "source": [
    "test_BoW(Preprocessing.stemming, data_set)"
   ]
  },
  {
   "cell_type": "markdown",
   "metadata": {},
   "source": [
    "#### BoW with Lemmatization"
   ]
  },
  {
   "cell_type": "code",
   "execution_count": null,
   "metadata": {},
   "outputs": [],
   "source": [
    "test_BoW(Preprocessing.lemmatization, data_set)\n"
   ]
  },
  {
   "cell_type": "markdown",
   "metadata": {},
   "source": [
    "# Term Frequency-Inverse Document Frequency (TF-IDF)"
   ]
  },
  {
   "cell_type": "code",
   "execution_count": 2,
   "metadata": {},
   "outputs": [],
   "source": [
    "from sklearn.feature_extraction.text import TfidfVectorizer\n",
    "def tf_idf(data_set, tokenizer=None):\n",
    "    vectorizer = TfidfVectorizer()\n",
    "    transformed_output = vectorizer.fit_transform(data_set)\n",
    "    feature_names = vectorizer.get_feature_names_out()\n",
    "    dense_output = transformed_output.todense()\n",
    "    df = pd.DataFrame(dense_output, columns=feature_names)\n",
    "    return df"
   ]
  },
  {
   "cell_type": "code",
   "execution_count": 5,
   "metadata": {},
   "outputs": [],
   "source": [
    "\n",
    "\n",
    "# for sentiment in sentiments:\n",
    "#     print(tf_idf(data_set[sentiment]))\n",
    "import pandas as pd\n",
    "    \n",
    "def test_TfIdf(tokenization_technique):\n",
    "    for sentiment in sentiments:\n",
    "        if tokenization_technique:\n",
    "            tokenization = tokenization_technique(data_set[sentiment])\n",
    "        # Flatten each list of tokens into a single string ! unnecessary for just tokenization\n",
    "        tokenization_strings = [' '.join(tokens) for tokens in tokenization]\n",
    "        tokenization_tfidf = tf_idf(tokenization_strings)\n",
    "        print(tokenization_tfidf)\n",
    "        \n"
   ]
  },
  {
   "cell_type": "markdown",
   "metadata": {},
   "source": [
    "### TF-IDF whith just Tokenization"
   ]
  },
  {
   "cell_type": "code",
   "execution_count": 6,
   "metadata": {},
   "outputs": [
    {
     "name": "stdout",
     "output_type": "stream",
     "text": [
      "      00am   07  0xx   10  100  1000  100m  10am  10th  10usd  ...  young  \\\n",
      "0      0.0  0.0  0.0  0.0  0.0   0.0   0.0   0.0   0.0    0.0  ...    0.0   \n",
      "1      0.0  0.0  0.0  0.0  0.0   0.0   0.0   0.0   0.0    0.0  ...    0.0   \n",
      "2      0.0  0.0  0.0  0.0  0.0   0.0   0.0   0.0   0.0    0.0  ...    0.0   \n",
      "3      0.0  0.0  0.0  0.0  0.0   0.0   0.0   0.0   0.0    0.0  ...    0.0   \n",
      "4      0.0  0.0  0.0  0.0  0.0   0.0   0.0   0.0   0.0    0.0  ...    0.0   \n",
      "...    ...  ...  ...  ...  ...   ...   ...   ...   ...    ...  ...    ...   \n",
      "1181   0.0  0.0  0.0  0.0  0.0   0.0   0.0   0.0   0.0    0.0  ...    0.0   \n",
      "1182   0.0  0.0  0.0  0.0  0.0   0.0   0.0   0.0   0.0    0.0  ...    0.0   \n",
      "1183   0.0  0.0  0.0  0.0  0.0   0.0   0.0   0.0   0.0    0.0  ...    0.0   \n",
      "1184   0.0  0.0  0.0  0.0  0.0   0.0   0.0   0.0   0.0    0.0  ...    0.0   \n",
      "1185   0.0  0.0  0.0  0.0  0.0   0.0   0.0   0.0   0.0    0.0  ...    0.0   \n",
      "\n",
      "      younger  your  yours  yourself  youth  youtube  yoyour  yoyoyou  yura  \n",
      "0         0.0   0.0    0.0       0.0    0.0      0.0     0.0      0.0   0.0  \n",
      "1         0.0   0.0    0.0       0.0    0.0      0.0     0.0      0.0   0.0  \n",
      "2         0.0   0.0    0.0       0.0    0.0      0.0     0.0      0.0   0.0  \n",
      "3         0.0   0.0    0.0       0.0    0.0      0.0     0.0      0.0   0.0  \n",
      "4         0.0   0.0    0.0       0.0    0.0      0.0     0.0      0.0   0.0  \n",
      "...       ...   ...    ...       ...    ...      ...     ...      ...   ...  \n",
      "1181      0.0   0.0    0.0       0.0    0.0      0.0     0.0      0.0   0.0  \n",
      "1182      0.0   0.0    0.0       0.0    0.0      0.0     0.0      0.0   0.0  \n",
      "1183      0.0   0.0    0.0       0.0    0.0      0.0     0.0      0.0   0.0  \n",
      "1184      0.0   0.0    0.0       0.0    0.0      0.0     0.0      0.0   0.0  \n",
      "1185      0.0   0.0    0.0       0.0    0.0      0.0     0.0      0.0   0.0  \n",
      "\n",
      "[1186 rows x 2373 columns]\n",
      "       00   01   04   08   10  100  100k  101   11   12  ...  yoyour  yoyoure  \\\n",
      "0     0.0  0.0  0.0  0.0  0.0  0.0   0.0  0.0  0.0  0.0  ...     0.0      0.0   \n",
      "1     0.0  0.0  0.0  0.0  0.0  0.0   0.0  0.0  0.0  0.0  ...     0.0      0.0   \n",
      "2     0.0  0.0  0.0  0.0  0.0  0.0   0.0  0.0  0.0  0.0  ...     0.0      0.0   \n",
      "3     0.0  0.0  0.0  0.0  0.0  0.0   0.0  0.0  0.0  0.0  ...     0.0      0.0   \n",
      "4     0.0  0.0  0.0  0.0  0.0  0.0   0.0  0.0  0.0  0.0  ...     0.0      0.0   \n",
      "...   ...  ...  ...  ...  ...  ...   ...  ...  ...  ...  ...     ...      ...   \n",
      "1181  0.0  0.0  0.0  0.0  0.0  0.0   0.0  0.0  0.0  0.0  ...     0.0      0.0   \n",
      "1182  0.0  0.0  0.0  0.0  0.0  0.0   0.0  0.0  0.0  0.0  ...     0.0      0.0   \n",
      "1183  0.0  0.0  0.0  0.0  0.0  0.0   0.0  0.0  0.0  0.0  ...     0.0      0.0   \n",
      "1184  0.0  0.0  0.0  0.0  0.0  0.0   0.0  0.0  0.0  0.0  ...     0.0      0.0   \n",
      "1185  0.0  0.0  0.0  0.0  0.0  0.0   0.0  0.0  0.0  0.0  ...     0.0      0.0   \n",
      "\n",
      "      yoyoyou  yummy  yuri  zabardast  zac  zcc  zero  zoos  \n",
      "0         0.0    0.0   0.0        0.0  0.0  0.0   0.0   0.0  \n",
      "1         0.0    0.0   0.0        0.0  0.0  0.0   0.0   0.0  \n",
      "2         0.0    0.0   0.0        0.0  0.0  0.0   0.0   0.0  \n",
      "3         0.0    0.0   0.0        0.0  0.0  0.0   0.0   0.0  \n",
      "4         0.0    0.0   0.0        0.0  0.0  0.0   0.0   0.0  \n",
      "...       ...    ...   ...        ...  ...  ...   ...   ...  \n",
      "1181      0.0    0.0   0.0        0.0  0.0  0.0   0.0   0.0  \n",
      "1182      0.0    0.0   0.0        0.0  0.0  0.0   0.0   0.0  \n",
      "1183      0.0    0.0   0.0        0.0  0.0  0.0   0.0   0.0  \n",
      "1184      0.0    0.0   0.0        0.0  0.0  0.0   0.0   0.0  \n",
      "1185      0.0    0.0   0.0        0.0  0.0  0.0   0.0   0.0  \n",
      "\n",
      "[1186 rows x 2384 columns]\n",
      "      000   05   10  100  103   11  117   12  127   13  ...  yet  yogendra  \\\n",
      "0     0.0  0.0  0.0  0.0  0.0  0.0  0.0  0.0  0.0  0.0  ...  0.0       0.0   \n",
      "1     0.0  0.0  0.0  0.0  0.0  0.0  0.0  0.0  0.0  0.0  ...  0.0       0.0   \n",
      "2     0.0  0.0  0.0  0.0  0.0  0.0  0.0  0.0  0.0  0.0  ...  0.0       0.0   \n",
      "3     0.0  0.0  0.0  0.0  0.0  0.0  0.0  0.0  0.0  0.0  ...  0.0       0.0   \n",
      "4     0.0  0.0  0.0  0.0  0.0  0.0  0.0  0.0  0.0  0.0  ...  0.0       0.0   \n",
      "...   ...  ...  ...  ...  ...  ...  ...  ...  ...  ...  ...  ...       ...   \n",
      "1181  0.0  0.0  0.0  0.0  0.0  0.0  0.0  0.0  0.0  0.0  ...  0.0       0.0   \n",
      "1182  0.0  0.0  0.0  0.0  0.0  0.0  0.0  0.0  0.0  0.0  ...  0.0       0.0   \n",
      "1183  0.0  0.0  0.0  0.0  0.0  0.0  0.0  0.0  0.0  0.0  ...  0.0       0.0   \n",
      "1184  0.0  0.0  0.0  0.0  0.0  0.0  0.0  0.0  0.0  0.0  ...  0.0       0.0   \n",
      "1185  0.0  0.0  0.0  0.0  0.0  0.0  0.0  0.0  0.0  0.0  ...  0.0       0.0   \n",
      "\n",
      "      yogi  yojana  yore  you  younger  your   yr  zoo  \n",
      "0      0.0     0.0   0.0  0.0      0.0   0.0  0.0  0.0  \n",
      "1      0.0     0.0   0.0  0.0      0.0   0.0  0.0  0.0  \n",
      "2      0.0     0.0   0.0  0.0      0.0   0.0  0.0  0.0  \n",
      "3      0.0     0.0   0.0  0.0      0.0   0.0  0.0  0.0  \n",
      "4      0.0     0.0   0.0  0.0      0.0   0.0  0.0  0.0  \n",
      "...    ...     ...   ...  ...      ...   ...  ...  ...  \n",
      "1181   0.0     0.0   0.0  0.0      0.0   0.0  0.0  0.0  \n",
      "1182   0.0     0.0   0.0  0.0      0.0   0.0  0.0  0.0  \n",
      "1183   0.0     0.0   0.0  0.0      0.0   0.0  0.0  0.0  \n",
      "1184   0.0     0.0   0.0  0.0      0.0   0.0  0.0  0.0  \n",
      "1185   0.0     0.0   0.0  0.0      0.0   0.0  0.0  0.0  \n",
      "\n",
      "[1186 rows x 2914 columns]\n"
     ]
    }
   ],
   "source": [
    "\n",
    "test_TfIdf(Preprocessing.tokenization)"
   ]
  },
  {
   "cell_type": "markdown",
   "metadata": {},
   "source": [
    "### TF-IDF whith stemming"
   ]
  },
  {
   "cell_type": "code",
   "execution_count": null,
   "metadata": {},
   "outputs": [],
   "source": [
    "test_TfIdf(Preprocessing.stemming)"
   ]
  },
  {
   "cell_type": "markdown",
   "metadata": {},
   "source": [
    "### TF-IDF whith lemmatization"
   ]
  },
  {
   "cell_type": "code",
   "execution_count": null,
   "metadata": {},
   "outputs": [],
   "source": [
    "test_TfIdf(Preprocessing.lemmatization)\n"
   ]
  },
  {
   "cell_type": "markdown",
   "metadata": {},
   "source": [
    "# 0 or 1, if the word exist (Binary/Count Vectorizer)"
   ]
  },
  {
   "cell_type": "code",
   "execution_count": 81,
   "metadata": {},
   "outputs": [],
   "source": [
    "\n",
    "def _binary_vectorization(tokens):\n",
    "    word_presence = {}\n",
    "    for token_list in tokens:\n",
    "        for token in token_list:\n",
    "            if token not in word_presence:\n",
    "                word_presence[token] = 1\n",
    "    return word_presence\n",
    "\n",
    "def create_binary_vectors(positive_tokens, negative_tokens, neutral_tokens):\n",
    "    positive_vectors = pd.DataFrame.from_dict(_binary_vectorization(positive_tokens), orient='index', columns=['Positive']).T\n",
    "    negative_vectors = pd.DataFrame.from_dict(_binary_vectorization(negative_tokens), orient='index', columns=['Negative']).T\n",
    "    neutral_vectors = pd.DataFrame.from_dict(_binary_vectorization(neutral_tokens), orient='index', columns=['Neutral']).T\n",
    "\n",
    "    combined_vectors = pd.concat([positive_vectors, negative_vectors, neutral_vectors], axis=0)\n",
    "    combined_vectors.fillna(0, inplace=True)\n",
    "\n",
    "    return combined_vectors\n",
    "    "
   ]
  },
  {
   "cell_type": "code",
   "execution_count": 82,
   "metadata": {},
   "outputs": [],
   "source": [
    "\n",
    "def test_binary_vectorization(data_set, tokenization_technique):\n",
    "    positive_tokens = tokenization_technique(data_set[\"positive\"])\n",
    "    negative_tokens = tokenization_technique(data_set[\"negative\"])\n",
    "    neutral_tokens = tokenization_technique(data_set[\"neutral\"])\n",
    "\n",
    "    binary_vectors = create_binary_vectors(positive_tokens, negative_tokens, neutral_tokens)\n",
    "    print(binary_vectors)\n",
    "    # binary_vectors.to_csv(\"bow_vectors.csv\")\n"
   ]
  },
  {
   "cell_type": "code",
   "execution_count": null,
   "metadata": {},
   "outputs": [],
   "source": [
    "test_binary_vectorization(data_set=data_set, tokenization_technique=Preprocessing.tokenization)\n"
   ]
  },
  {
   "cell_type": "code",
   "execution_count": null,
   "metadata": {},
   "outputs": [],
   "source": [
    "test_binary_vectorization(data_set=data_set, tokenization_technique=Preprocessing.stemming)\n"
   ]
  },
  {
   "cell_type": "code",
   "execution_count": null,
   "metadata": {},
   "outputs": [],
   "source": [
    "test_binary_vectorization(data_set=data_set, tokenization_technique=Preprocessing.lemmatization)\n"
   ]
  },
  {
   "cell_type": "markdown",
   "metadata": {},
   "source": [
    "# ddfdf\n"
   ]
  }
 ],
 "metadata": {
  "kernelspec": {
   "display_name": "ai",
   "language": "python",
   "name": "python3"
  },
  "language_info": {
   "codemirror_mode": {
    "name": "ipython",
    "version": 3
   },
   "file_extension": ".py",
   "mimetype": "text/x-python",
   "name": "python",
   "nbconvert_exporter": "python",
   "pygments_lexer": "ipython3",
   "version": "3.12.1"
  }
 },
 "nbformat": 4,
 "nbformat_minor": 2
}

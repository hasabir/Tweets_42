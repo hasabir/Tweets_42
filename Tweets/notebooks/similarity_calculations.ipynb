{
 "cells": [
  {
   "cell_type": "code",
   "execution_count": null,
   "metadata": {},
   "outputs": [],
   "source": [
    "import numpy as np\n",
    "import sys\n",
    "import os\n",
    "sys.path.insert(0, os.path.abspath(os.path.join(os.getcwd(), '../')))\n",
    "\n",
    "from src.preprocessing import Preprocessing\n",
    "from src.data_cleaning import DataCleaning\n",
    "from src.vectorization import Vectorization\n",
    "\n",
    "\n",
    "data_set = DataCleaning.load_data()\n",
    "\n",
    "def calculate_similarity(a, b):\n",
    "  return np.dot(a, b) / (np.linalg.norm(a) * np.linalg.norm(b))\n",
    "\n",
    "sim = [calculate_similarity(np.array(vec_request.embeddings),np.array(responses.embeddings)[i]) for i in range(len(responses))]"
   ]
  }
 ],
 "metadata": {
  "kernelspec": {
   "display_name": "ai",
   "language": "python",
   "name": "python3"
  },
  "language_info": {
   "name": "python",
   "version": "3.12.1"
  }
 },
 "nbformat": 4,
 "nbformat_minor": 2
}

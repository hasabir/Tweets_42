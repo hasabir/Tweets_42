{
 "cells": [
  {
   "cell_type": "markdown",
   "metadata": {},
   "source": [
    "## Data preparation\n",
    "---"
   ]
  },
  {
   "cell_type": "code",
   "execution_count": 1,
   "metadata": {},
   "outputs": [],
   "source": [
    "import pandas as pd\n",
    "import numpy as np \n",
    "import matplotlib.pyplot as plt\n",
    "import seaborn as sns\n",
    "\n",
    "\n",
    "plt.style.use('ggplot')\n",
    "\n",
    "import nltk"
   ]
  },
  {
   "cell_type": "code",
   "execution_count": 41,
   "metadata": {},
   "outputs": [],
   "source": [
    "positive = pd.DataFrame()\n",
    "negative = pd.DataFrame()\n",
    "neutral = pd.DataFrame()\n",
    "\n",
    "positive[\"positive\"] = pd.read_csv('data/processedPositive.csv', header=None ).T.squeeze()\n",
    "negative[\"negative\"] = pd.read_csv('data/processedNegative.csv', header=None).T.squeeze()\n",
    "neutral[\"neutral\"] = pd.read_csv('data/processedNeutral.csv', header=None).T.squeeze()\n",
    "\n",
    "\n",
    "\n",
    "merged = pd.merge(positive, negative, left_index=True, right_index=True)\n",
    "data_frame = pd.merge(merged, neutral, left_index=True, right_index=True)\n",
    "\n",
    "data_frame = data_frame.sample(frac=0.2, random_state=1)\n"
   ]
  },
  {
   "cell_type": "code",
   "execution_count": 21,
   "metadata": {},
   "outputs": [],
   "source": [
    "positif = pd.read_csv('../data/processedPositive.csv', header=None).T.squeeze()\n",
    "negatif = pd.read_csv('../data/processedNegative.csv')\n",
    "netral = pd.read_csv('../data/processedNeutral.csv')\n"
   ]
  },
  {
   "cell_type": "code",
   "execution_count": 17,
   "metadata": {},
   "outputs": [
    {
     "data": {
      "text/plain": [
       "'An inspiration in all aspects: Fashion'"
      ]
     },
     "execution_count": 17,
     "metadata": {},
     "output_type": "execute_result"
    }
   ],
   "source": [
    "positif[0]"
   ]
  },
  {
   "cell_type": "markdown",
   "metadata": {},
   "source": [
    "### Preprocessing"
   ]
  },
  {
   "cell_type": "markdown",
   "metadata": {},
   "source": [
    "---\n"
   ]
  },
  {
   "cell_type": "markdown",
   "metadata": {},
   "source": [
    "#### Just tokenization"
   ]
  },
  {
   "cell_type": "code",
   "execution_count": 22,
   "metadata": {},
   "outputs": [
    {
     "data": {
      "text/plain": [
       "['An', 'inspiration', 'in', 'all', 'aspects', 'Fashion']"
      ]
     },
     "execution_count": 22,
     "metadata": {},
     "output_type": "execute_result"
    }
   ],
   "source": [
    "tokenizer = nltk.tokenize.RegexpTokenizer(r'\\w+')\n",
    "tokens = tokenizer.tokenize(positif[0])\n",
    "tokens[:10]"
   ]
  },
  {
   "cell_type": "markdown",
   "metadata": {},
   "source": [
    "### Transform tweets to vectors (Vectorisation)\n"
   ]
  },
  {
   "cell_type": "markdown",
   "metadata": {},
   "source": [
    "---"
   ]
  },
  {
   "cell_type": "markdown",
   "metadata": {},
   "source": [
    "#### Bag of words (BoW)"
   ]
  },
  {
   "cell_type": "code",
   "execution_count": null,
   "metadata": {},
   "outputs": [
    {
     "data": {
      "text/html": [
       "<div>\n",
       "<style scoped>\n",
       "    .dataframe tbody tr th:only-of-type {\n",
       "        vertical-align: middle;\n",
       "    }\n",
       "\n",
       "    .dataframe tbody tr th {\n",
       "        vertical-align: top;\n",
       "    }\n",
       "\n",
       "    .dataframe thead th {\n",
       "        text-align: right;\n",
       "    }\n",
       "</style>\n",
       "<table border=\"1\" class=\"dataframe\">\n",
       "  <thead>\n",
       "    <tr style=\"text-align: right;\">\n",
       "      <th></th>\n",
       "      <th>An_x</th>\n",
       "      <th>inspiration</th>\n",
       "      <th>in_x</th>\n",
       "      <th>all_x</th>\n",
       "      <th>aspects:</th>\n",
       "      <th>Fashion</th>\n",
       "      <th>fitness</th>\n",
       "      <th>beauty_x</th>\n",
       "      <th>and_x</th>\n",
       "      <th>personality.</th>\n",
       "      <th>...</th>\n",
       "      <th>4-member</th>\n",
       "      <th>administrators</th>\n",
       "      <th>1/3</th>\n",
       "      <th>Amulya</th>\n",
       "      <th>appointed</th>\n",
       "      <th>commissioner.</th>\n",
       "      <th>1985</th>\n",
       "      <th>AGMUT</th>\n",
       "      <th>cadre</th>\n",
       "      <th>officer.</th>\n",
       "    </tr>\n",
       "  </thead>\n",
       "  <tbody>\n",
       "  </tbody>\n",
       "</table>\n",
       "<p>0 rows × 10716 columns</p>\n",
       "</div>"
      ],
      "text/plain": [
       "Empty DataFrame\n",
       "Columns: [An_x, inspiration, in_x, all_x, aspects:, Fashion, fitness, beauty_x, and_x, personality., :)KISSES, TheFashionIcon_x, Apka, Apna, Awam, Ka, Channel, Frankline, Tv, Aam, Admi, Production, Please_x, Visit, Or_x, Likes, Share, :)Fb, Page, :..., Beautiful, album, from_x, the_x, greatest, unsung_x, guitar, genius, of_x, our_x, time_x, -_x, I've_x, met_x, great_x, backstage, Good_x, luck_x, to_x, Rich_x, riding, for_x, project_x, this_x, Sunday., Can_x, you_x, donate?, Omg_x, he..., kissed..., him_x, crying_x, with_x, joy, happy_x, anniv, ming, papi!!!!!, love_x, thanks_x, C'mon, Tweeps, Join, vote_x, singer!, Do, spread_x, word., :D, Thanks_x, review!, smile_x, Yay, another_x, art_x, raffle!, Everything, need_x, know_x, is_x, picture_x, Hello_x, I_x, hope_x, visit_x, Luxor, its_x, amazing_x, city_x, ...]\n",
       "Index: []\n",
       "\n",
       "[0 rows x 10716 columns]"
      ]
     },
     "execution_count": 58,
     "metadata": {},
     "output_type": "execute_result"
    }
   ],
   "source": [
    "\n",
    "\n",
    "positif_bag_of_words = {}\n",
    "for review in positif:\n",
    "    for word in review.split():\n",
    "        if word in positif_bag_of_words:\n",
    "            positif_bag_of_words[word] += 1\n",
    "        else:\n",
    "            positif_bag_of_words[word] = 1\n",
    "\n",
    "negative_bag_of_words = {}\n",
    "for review in negatif:\n",
    "    for word in review.split():\n",
    "        if word in negative_bag_of_words:\n",
    "            negative_bag_of_words[word] += 1\n",
    "        else:\n",
    "            negative_bag_of_words[word] = 1\n",
    "\n",
    "netral_bag_of_words = {}\n",
    "for review in netral:\n",
    "    for word in review.split():\n",
    "        if word in netral_bag_of_words:\n",
    "            netral_bag_of_words[word] += 1\n",
    "        else:\n",
    "            netral_bag_of_words[word] = 1\n",
    "\n",
    "positif_bag_of_words = pd.DataFrame.from_dict(positif_bag_of_words, orient='index', columns=['Positif']).T\n",
    "negative_bag_of_words = pd.DataFrame.from_dict(negative_bag_of_words, orient='index', columns=['Negatif']).T\n",
    "netral_bag_of_words = pd.DataFrame.from_dict(netral_bag_of_words, orient='index', columns=['Netral']).T\n",
    "\n",
    "\n",
    "bag_of_words = pd.concat([positif_bag_of_words, negative_bag_of_words, netral_bag_of_words], axis=0)\n",
    "bag_of_words = bag_of_words.fillna(0, inplace=True)\n"
   ]
  },
  {
   "cell_type": "code",
   "execution_count": null,
   "metadata": {},
   "outputs": [],
   "source": []
  },
  {
   "cell_type": "markdown",
   "metadata": {},
   "source": [
    "#### TF-IDF (Term Frequency-Inverse)"
   ]
  },
  {
   "cell_type": "code",
   "execution_count": null,
   "metadata": {},
   "outputs": [],
   "source": []
  },
  {
   "cell_type": "markdown",
   "metadata": {},
   "source": [
    "#### Word2Vec"
   ]
  },
  {
   "cell_type": "code",
   "execution_count": null,
   "metadata": {},
   "outputs": [],
   "source": []
  }
 ],
 "metadata": {
  "kernelspec": {
   "display_name": "ai",
   "language": "python",
   "name": "python3"
  },
  "language_info": {
   "codemirror_mode": {
    "name": "ipython",
    "version": 3
   },
   "file_extension": ".py",
   "mimetype": "text/x-python",
   "name": "python",
   "nbconvert_exporter": "python",
   "pygments_lexer": "ipython3",
   "version": "3.12.4"
  }
 },
 "nbformat": 4,
 "nbformat_minor": 2
}

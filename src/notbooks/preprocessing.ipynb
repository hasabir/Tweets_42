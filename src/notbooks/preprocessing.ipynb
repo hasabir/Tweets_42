{
 "cells": [
  {
   "cell_type": "code",
   "execution_count": 2,
   "metadata": {},
   "outputs": [
    {
     "name": "stderr",
     "output_type": "stream",
     "text": [
      "[nltk_data] Downloading package words to /home/hasabir/nltk_data...\n",
      "[nltk_data]   Package words is already up-to-date!\n"
     ]
    }
   ],
   "source": [
    "from sklearn.feature_extraction.text import CountVectorizer, TfidfVectorizer\n",
    "import sys\n",
    "import os\n",
    "\n",
    "sys.path.insert(0, os.path.abspath(os.path.join(os.getcwd(), '../')))\n",
    "from lib.preprocessing_data import Preprocessing\n",
    "from lib.data_preparation import DataPreparation\n",
    "from sklearn.model_selection import train_test_split\n",
    " \n",
    "import pandas as pd"
   ]
  },
  {
   "cell_type": "code",
   "execution_count": 3,
   "metadata": {},
   "outputs": [],
   "source": [
    "import seaborn as sns\n",
    "import matplotlib.pyplot as plt\n",
    "\n",
    "def plot_heatmap(df, title):\n",
    "    sampled_df = df.sample(frac=0.005, axis=0).sample(frac=0.02, axis=1)\n",
    "    \n",
    "    \n",
    "    plt.figure(figsize=(15, 8), facecolor='lightgray')\n",
    "    sns.heatmap(sampled_df, cmap=\"YlGnBu\", annot=False, cbar=True)\n",
    "    plt.title(title)\n",
    "    plt.xlabel(\"Features (Words)\")\n",
    "    plt.ylabel(\"Documents\")\n",
    "    plt.show()"
   ]
  },
  {
   "cell_type": "code",
   "execution_count": 4,
   "metadata": {},
   "outputs": [],
   "source": [
    "def preprocess_and_vectorize_tweets(preprocessing_name, preprocessing_method,vectorizer_name, vectorizer, df, data_type):\n",
    "    data_set = preprocessing_method(df)\n",
    "    \n",
    "    processed_tweets = data_set['processed_tweets']\n",
    "    processed_tweets = processed_tweets.apply(lambda row: ' '.join(row))\n",
    "    \n",
    "    if data_type == 'train':\n",
    "        vectorizer.fit_transform(processed_tweets)\n",
    "    else :\n",
    "        vectorizer.transform(processed_tweets)\n",
    "    \n",
    "    \n",
    "    transformed_output = vectorizer.transform(processed_tweets)\n",
    "    feature_names = vectorizer.get_feature_names_out()\n",
    "    dense_output = transformed_output.todense()\n",
    "    train_df = pd.DataFrame(\n",
    "        dense_output, \n",
    "        columns=feature_names,\n",
    "        index=processed_tweets.index \n",
    "    )\n",
    "    \n",
    "    \n",
    "    \n",
    "    train_df = Preprocessing().remove_duplicates(train_df)\n",
    "    \n",
    "    train_df.to_csv(\n",
    "        f'../data/prepocessed_{data_type}ing_data/{preprocessing_name}_{vectorizer_name}.csv',\n",
    "        index=False\n",
    "        )\n",
    "    "
   ]
  },
  {
   "cell_type": "code",
   "execution_count": null,
   "metadata": {},
   "outputs": [],
   "source": [
    "data_set = DataPreparation().load_data()\n",
    "\n",
    "\n",
    "preprocessing_methods = {\n",
    "    \"tokenization\": Preprocessing().tokenization,\n",
    "    \"lemmatization\": Preprocessing().lemmatization,\n",
    "    \"stemming\": Preprocessing().stemming,\n",
    "    \"stemming_with_misspelling\": Preprocessing().stemming_with_misspelling,\n",
    "    \"lemmatization_with_misspelling\": Preprocessing().lemmatization_with_misspelling,\n",
    "    \"lemmatization_with_stop-words_removal\": Preprocessing().lemmatization_with_stopwords_removal,\n",
    "}\n",
    "vectorizers = {\n",
    "    \"TF-IDF\": TfidfVectorizer(),\n",
    "    \"Bow\": CountVectorizer(binary=False),\n",
    "    \"BinaryVectorizer\": CountVectorizer(binary=True),\n",
    "}\n",
    "\n",
    "train_df, test_df = train_test_split(\n",
    "            data_set, test_size=0.2, random_state=1, stratify=data_set['label']\n",
    "        )\n",
    "\n",
    "train_df.to_csv('../data/raw_splits/train.csv', index=False)\n",
    "test_df.to_csv('../data/raw_splits/test.csv', index=False)\n",
    "\n",
    "\n",
    "\n",
    "for preprocessing_name, preprocessing_method in preprocessing_methods.items():\n",
    "    for vectorizer_name, vectorizer in vectorizers.items():\n",
    "        preprocess_and_vectorize_tweets(preprocessing_name=preprocessing_name,\n",
    "                                        preprocessing_method=preprocessing_method,\n",
    "                                        vectorizer_name=vectorizer_name,\n",
    "                                        vectorizer=vectorizer,\n",
    "                                        df=train_df, \n",
    "                                        data_type='train'\n",
    "                                        )\n",
    "        preprocess_and_vectorize_tweets(preprocessing_name=preprocessing_name,\n",
    "                                        preprocessing_method=preprocessing_method,\n",
    "                                        vectorizer_name=vectorizer_name,\n",
    "                                        vectorizer=vectorizer,\n",
    "                                        df=test_df, \n",
    "                                        data_type='test')\n",
    "\n"
   ]
  }
 ],
 "metadata": {
  "kernelspec": {
   "display_name": "ai",
   "language": "python",
   "name": "python3"
  },
  "language_info": {
   "codemirror_mode": {
    "name": "ipython",
    "version": 3
   },
   "file_extension": ".py",
   "mimetype": "text/x-python",
   "name": "python",
   "nbconvert_exporter": "python",
   "pygments_lexer": "ipython3",
   "version": "3.10.16"
  }
 },
 "nbformat": 4,
 "nbformat_minor": 2
}

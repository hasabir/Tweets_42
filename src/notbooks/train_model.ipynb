{
 "cells": [
  {
   "cell_type": "code",
   "execution_count": 74,
   "metadata": {},
   "outputs": [
    {
     "data": {
      "text/plain": [
       "(2490, 356, 712)"
      ]
     },
     "execution_count": 74,
     "metadata": {},
     "output_type": "execute_result"
    }
   ],
   "source": [
    "import sys\n",
    "import os\n",
    "sys.path.insert(0, os.path.abspath(os.path.join(os.getcwd(), '../')))\n",
    "\n",
    "from lib.data_preparation import DataPreparation\n",
    "from lib.preprocessing_data import Preprocessing\n",
    "from lib.vectorization import Vectorization\n",
    "\n",
    "\n",
    "data_set = DataPreparation().load_data()\n",
    "data_set = Preprocessing().tokenization(data_set)\n",
    "\n",
    "train_df = data_set.sample(frac=1, random_state=1).reset_index(drop=True, inplace=True)\n",
    "\n",
    "split_index_1 = int(len(data_set) * 0.7)\n",
    "split_index_2 = int(len(data_set) * 0.8)\n",
    "\n",
    "\n",
    "train_df, test_df, validation_df = data_set[:split_index_1], data_set[split_index_1:split_index_2], data_set[split_index_2:]\n",
    "\n",
    "len(train_df), len(test_df), len(validation_df)"
   ]
  },
  {
   "cell_type": "code",
   "execution_count": 81,
   "metadata": {},
   "outputs": [],
   "source": [
    "# from sklearn.model_selection import train_test_split\n",
    "\n",
    "# X = data_set['tweet']  # Input features\n",
    "# y = data_set['sentiment']  # Labels\n",
    "# # X_train, X_test, y_train, y_test = train_test_split(X, y, test_size=0.2, random_state=42)\n",
    "\n",
    "\n",
    "X_train = train_df['tweet']\n",
    "y_train = train_df['sentiment'].to_numpy().astype(str)\n",
    "\n",
    "X_test = test_df['tweet']\n",
    "y_test = test_df['sentiment'].to_numpy().astype(str)\n",
    "\n",
    "\n",
    "X_validation = validation_df['tweet']\n",
    "y_validation = validation_df['sentiment'].to_numpy().astype(str)\n",
    "\n",
    "X_train_vector = Vectorization.vectorize_with_tfidf(train_df)\n",
    "X_test_vector = Vectorization.vectorize_with_tfidf(test_df)\n",
    "# X_train_vector.shape, X_test_vector.shape\n",
    "\n",
    "# y = data_set['sentiment'].to_numpy().astype(str)\n",
    "# X_train_vectors = vectorizer.fit_transform(X_train)\n",
    "# X_test_vectors = vectorizer.transform(X_test)\n"
   ]
  },
  {
   "cell_type": "code",
   "execution_count": 82,
   "metadata": {},
   "outputs": [],
   "source": [
    "# vocab = {word for tweet in X_train for word in tweet}\n",
    "\n",
    "# word_to_index = {word: i + 1 for i, word in enumerate(sorted(vocab))}\n",
    "# index_to_word = {i: word for word, i in word_to_index.items()}\n",
    "\n",
    "# X_train = [[word_to_index[word] for word in tweet if word in word_to_index] for tweet in X_train]"
   ]
  },
  {
   "cell_type": "code",
   "execution_count": null,
   "metadata": {},
   "outputs": [
    {
     "name": "stdout",
     "output_type": "stream",
     "text": [
      "(2490, 4062)\n",
      "(356, 4062)\n",
      "(2490,)\n"
     ]
    }
   ],
   "source": [
    "from sklearn.feature_extraction.text import CountVectorizer\n",
    "\n",
    "vectorizer = CountVectorizer()\n",
    "X_train_vector = vectorizer.fit_transform(X_train)\n",
    "X_test_vector = vectorizer.transform(X_test)\n",
    "print(X_train_vector.shape)  # Should match the number of features\n",
    "print(X_test_vector.shape)\n",
    "\n"
   ]
  },
  {
   "cell_type": "code",
   "execution_count": 86,
   "metadata": {},
   "outputs": [
    {
     "name": "stdout",
     "output_type": "stream",
     "text": [
      "              precision    recall  f1-score   support\n",
      "\n",
      "    negative       0.00      0.00      0.00         0\n",
      "     neutral       1.00      0.13      0.24       356\n",
      "    positive       0.00      0.00      0.00         0\n",
      "\n",
      "    accuracy                           0.13       356\n",
      "   macro avg       0.33      0.04      0.08       356\n",
      "weighted avg       1.00      0.13      0.24       356\n",
      "\n"
     ]
    },
    {
     "name": "stderr",
     "output_type": "stream",
     "text": [
      "/workspaces/Tweets_42/ai/lib/python3.12/site-packages/sklearn/metrics/_classification.py:1531: UndefinedMetricWarning: Recall is ill-defined and being set to 0.0 in labels with no true samples. Use `zero_division` parameter to control this behavior.\n",
      "  _warn_prf(average, modifier, f\"{metric.capitalize()} is\", len(result))\n",
      "/workspaces/Tweets_42/ai/lib/python3.12/site-packages/sklearn/metrics/_classification.py:1531: UndefinedMetricWarning: Recall is ill-defined and being set to 0.0 in labels with no true samples. Use `zero_division` parameter to control this behavior.\n",
      "  _warn_prf(average, modifier, f\"{metric.capitalize()} is\", len(result))\n",
      "/workspaces/Tweets_42/ai/lib/python3.12/site-packages/sklearn/metrics/_classification.py:1531: UndefinedMetricWarning: Recall is ill-defined and being set to 0.0 in labels with no true samples. Use `zero_division` parameter to control this behavior.\n",
      "  _warn_prf(average, modifier, f\"{metric.capitalize()} is\", len(result))\n"
     ]
    }
   ],
   "source": [
    "from sklearn.linear_model import LogisticRegression\n",
    "from sklearn.metrics import classification_report\n",
    "\n",
    "clf = LogisticRegression()\n",
    "clf.fit(X_train_vector, y_train)\n",
    "y_pred = clf.predict(X_test_vector)\n",
    "\n",
    "print(classification_report(y_test, y_pred))\n"
   ]
  },
  {
   "cell_type": "code",
   "execution_count": 87,
   "metadata": {},
   "outputs": [
    {
     "data": {
      "image/png": "[encoded data removed]",
      "text/plain": [
       "<Figure size 640x480 with 2 Axes>"
      ]
     },
     "metadata": {},
     "output_type": "display_data"
    }
   ],
   "source": [
    "from sklearn.metrics import confusion_matrix\n",
    "import seaborn as sns\n",
    "import matplotlib.pyplot as plt\n",
    "\n",
    "cm = confusion_matrix(y_test, y_pred)\n",
    "sns.heatmap(cm, annot=True, fmt='d', cmap='Blues', xticklabels=clf.classes_, yticklabels=clf.classes_)\n",
    "plt.ylabel('Actual')\n",
    "plt.xlabel('Predicted')\n",
    "plt.show()\n",
    "\n"
   ]
  }
 ],
 "metadata": {
  "kernelspec": {
   "display_name": "ai",
   "language": "python",
   "name": "python3"
  },
  "language_info": {
   "codemirror_mode": {
    "name": "ipython",
    "version": 3
   },
   "file_extension": ".py",
   "mimetype": "text/x-python",
   "name": "python",
   "nbconvert_exporter": "python",
   "pygments_lexer": "ipython3",
   "version": "3.12.1"
  }
 },
 "nbformat": 4,
 "nbformat_minor": 2
}

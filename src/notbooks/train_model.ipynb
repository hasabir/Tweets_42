{
 "cells": [
  {
   "cell_type": "code",
   "execution_count": 8,
   "metadata": {},
   "outputs": [
    {
     "data": {
      "text/plain": [
       "(2490, 356, 712)"
      ]
     },
     "execution_count": 8,
     "metadata": {},
     "output_type": "execute_result"
    }
   ],
   "source": [
    "import sys\n",
    "import os\n",
    "sys.path.insert(0, os.path.abspath(os.path.join(os.getcwd(), '../')))\n",
    "\n",
    "from lib.data_preparation import DataPreparation\n",
    "from lib.preprocessing_data import Preprocessing\n",
    "from lib.vectorization import Vectorization\n",
    "\n",
    "\n",
    "data_set = DataPreparation().load_data()\n",
    "train_df = data_set.sample(frac=1, random_state=1).reset_index(drop=True, inplace=True)\n",
    "\n",
    "split_index_1 = int(len(data_set) * 0.7)\n",
    "split_index_2 = int(len(data_set) * 0.8)\n",
    "\n",
    "\n",
    "train_df, test_df, validation_df = data_set[:split_index_1], data_set[split_index_1:split_index_2], data_set[split_index_2:]\n",
    "\n",
    "len(train_df), len(test_df), len(validation_df)"
   ]
  },
  {
   "cell_type": "code",
   "execution_count": 11,
   "metadata": {},
   "outputs": [],
   "source": [
    "# df to X and y\n",
    "def df_to_X_y(df):\n",
    "    y = train_df['tweet'].to_numpy().astype(int)\n",
    "    \n"
   ]
  }
 ],
 "metadata": {
  "kernelspec": {
   "display_name": "ai",
   "language": "python",
   "name": "python3"
  },
  "language_info": {
   "codemirror_mode": {
    "name": "ipython",
    "version": 3
   },
   "file_extension": ".py",
   "mimetype": "text/x-python",
   "name": "python",
   "nbconvert_exporter": "python",
   "pygments_lexer": "ipython3",
   "version": "3.12.1"
  }
 },
 "nbformat": 4,
 "nbformat_minor": 2
}

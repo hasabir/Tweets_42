{
 "cells": [
  {
   "cell_type": "code",
   "execution_count": null,
   "metadata": {},
   "outputs": [],
   "source": [
    "import pandas as pd\n",
    "\n",
    "file_paths = {\n",
    "    \"positive\": '../data/processedPositive.csv',\n",
    "    \"negative\": '../data/processedNegative.csv',\n",
    "    \"neutral\": '../data/processedNeutral.csv'\n",
    "}\n",
    "\n",
    "data_frame = pd.DataFrame()\n",
    "for label, path in file_paths.items():\n",
    "    data_frame[label] = pd.read_csv(path, header=None).squeeze()\n",
    "\n",
    "data_frame = data_frame.fillna('').astype(str)\n",
    "data_frame"
   ]
  },
  {
   "cell_type": "code",
   "execution_count": null,
   "metadata": {},
   "outputs": [],
   "source": [
    "import subprocess\n",
    "import nltk\n",
    "\n",
    "subprocess.run([\"python\", \"-m\", \"nltk.downloader\", \"stopwords\"])"
   ]
  },
  {
   "cell_type": "code",
   "execution_count": null,
   "metadata": {},
   "outputs": [],
   "source": [
    "from nltk.corpus import stopwords\n",
    "stop_words = set(stopwords.words('english'))\n",
    "\n",
    "new_data_frame: pd.DataFrame = data_frame.copy()\n",
    "for column in new_data_frame.columns:\n",
    "    new_data_frame[column] = new_data_frame[column].apply(\n",
    "        lambda row: ' '.join([word for word in row.split() if word.lower() not in stop_words])\n",
    "    )\n",
    "new_data_frame"
   ]
  },
  {
   "cell_type": "code",
   "execution_count": null,
   "metadata": {},
   "outputs": [],
   "source": [
    "data = new_data_frame.melt(var_name='sentiment', value_name='tweet')\n",
    "data['id'] = data.index\n",
    "data = data[['id'] + [col for col in data.columns if col != 'id']]\n",
    "data"
   ]
  }
 ],
 "metadata": {
  "kernelspec": {
   "display_name": "ai",
   "language": "python",
   "name": "python3"
  },
  "language_info": {
   "name": "python",
   "version": "3.12.1"
  }
 },
 "nbformat": 4,
 "nbformat_minor": 2
}

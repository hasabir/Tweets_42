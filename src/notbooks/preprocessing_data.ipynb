{
 "cells": [
  {
   "cell_type": "markdown",
   "metadata": {},
   "source": [
    "### Load data\n"
   ]
  },
  {
   "cell_type": "code",
   "execution_count": null,
   "metadata": {},
   "outputs": [],
   "source": [
    "import sys\n",
    "import os\n",
    "sys.path.insert(0, os.path.abspath(os.path.join(os.getcwd(), '../')))\n",
    "\n",
    "from lib.data_preparation import DataPreparation\n",
    "\n",
    "\n",
    "data_set = DataPreparation.remove_stopwords(DataPreparation.load_data())\n",
    "data_set = DataPreparation.clean_data(data_set)\n",
    "\n",
    "\n",
    "data_set = data_set.sample(frac=0.005).reset_index(drop=True)\n",
    "data_set"
   ]
  },
  {
   "cell_type": "markdown",
   "metadata": {},
   "source": [
    "---"
   ]
  },
  {
   "cell_type": "markdown",
   "metadata": {},
   "source": [
    "\n",
    "### Tokenization"
   ]
  },
  {
   "cell_type": "code",
   "execution_count": null,
   "metadata": {},
   "outputs": [],
   "source": [
    "import nltk\n",
    "import pandas as pd\n",
    "\n",
    "tokenizer = nltk.tokenize.RegexpTokenizer(r'\\w+')\n",
    "tokenized_data_frame = pd.DataFrame()\n",
    "for column in data_set.columns:\n",
    "    tokenized_data_frame[column] = data_set[column].astype(str).apply(tokenizer.tokenize)\n",
    "\n",
    "print(tokenized_data_frame.shape)\n"
   ]
  },
  {
   "cell_type": "code",
   "execution_count": null,
   "metadata": {},
   "outputs": [],
   "source": [
    "tokenized_data_frame"
   ]
  },
  {
   "cell_type": "markdown",
   "metadata": {},
   "source": [
    "---\n",
    "\n",
    "### Stemmming"
   ]
  },
  {
   "cell_type": "code",
   "execution_count": null,
   "metadata": {},
   "outputs": [],
   "source": [
    "from nltk.stem import PorterStemmer\n",
    "\n",
    "stemmer = PorterStemmer()\n",
    "stemmed_data = pd.DataFrame()\n",
    "\n",
    "for column in tokenized_data_frame.columns:\n",
    "    stemmed_data[column] = tokenized_data_frame[column].apply(lambda row: [stemmer.stem(word) for word in row])\n",
    "stemmed_data\n"
   ]
  },
  {
   "cell_type": "markdown",
   "metadata": {},
   "source": [
    "---\n",
    "\n",
    "### Lemmatization"
   ]
  },
  {
   "cell_type": "code",
   "execution_count": null,
   "metadata": {},
   "outputs": [],
   "source": [
    "import spacy\n",
    "\n",
    "nlp = spacy.load('en_core_web_md')\n",
    "lemmatized_words = pd.DataFrame()\n",
    "for column in data_set.columns:\n",
    "    lemmatized_words[column] = data_set[column].astype(str).apply(\n",
    "        lambda row: [token.lemma_ for token in nlp(row)]\n",
    "    )\n",
    "    \n",
    "lemmatized_words"
   ]
  },
  {
   "cell_type": "markdown",
   "metadata": {},
   "source": [
    "---\n",
    "\n",
    "\n",
    "### Stemming + misspellings"
   ]
  },
  {
   "cell_type": "markdown",
   "metadata": {},
   "source": [
    "#### misspelling correction with jaccard_distance"
   ]
  },
  {
   "cell_type": "code",
   "execution_count": null,
   "metadata": {},
   "outputs": [],
   "source": [
    "from nltk.corpus import words\n",
    "from rapidfuzz import process\n",
    "import pandas as pd\n",
    "from nltk.stem import PorterStemmer\n",
    "from nltk.metrics.distance import jaccard_distance\n",
    "from nltk.util import ngrams\n",
    "from nltk.corpus import words\n",
    "import nltk\n",
    "\n",
    "nltk.download('words')\n",
    "\n",
    "stemmer = PorterStemmer()\n",
    "corrected_stemmed_data = pd.DataFrame()\n",
    "\n",
    "def get_closest_word(word, threshold=80):\n",
    "    match = process.extractOne(word, words.words(), score_cutoff=threshold)\n",
    "    if match :\n",
    "        return match[0]\n",
    "    return word\n",
    "\n",
    "\n"
   ]
  },
  {
   "cell_type": "code",
   "execution_count": null,
   "metadata": {},
   "outputs": [],
   "source": [
    "for column in tokenized_data_frame.columns:\n",
    "    corrected_stemmed_data[column] = tokenized_data_frame[column].apply(\n",
    "        lambda row: [stemmer.stem(get_closest_word(token)) for token in row])\n",
    "\n",
    "\n",
    "corrected_stemmed_data"
   ]
  },
  {
   "cell_type": "markdown",
   "metadata": {},
   "source": [
    "---\n",
    "### Lemmatization with misspelling"
   ]
  },
  {
   "cell_type": "code",
   "execution_count": null,
   "metadata": {},
   "outputs": [],
   "source": [
    "corrected_lemmatizide_data = pd.DataFrame()\n",
    "\n",
    "for column in data_set.columns:\n",
    "    corrected_lemmatizide_data[column] = data_set[column].astype(str).apply(\n",
    "        lambda row: [token.lemma_ \n",
    "                     for token in nlp(\" \".join(get_closest_word(word) \n",
    "                                               for word in row.split()))]\n",
    "    )\n"
   ]
  },
  {
   "cell_type": "code",
   "execution_count": null,
   "metadata": {},
   "outputs": [],
   "source": [
    "corrected_lemmatizide_data"
   ]
  },
  {
   "cell_type": "markdown",
   "metadata": {},
   "source": []
  },
  {
   "cell_type": "markdown",
   "metadata": {},
   "source": [
    "---\n",
    "### Correct Slang words "
   ]
  },
  {
   "cell_type": "code",
   "execution_count": null,
   "metadata": {},
   "outputs": [],
   "source": [
    "from ekphrasis.classes.preprocessor import TextPreProcessor\n",
    "from ekphrasis.dicts.emoticons import emoticons\n",
    "from ekphrasis.classes.tokenizer import SocialTokenizer\n",
    "import pandas as pd\n",
    "\n",
    "# Initialize text preprocessor\n",
    "text_processor = TextPreProcessor(\n",
    "    normalize=['url', 'email', 'percent', 'money', 'phone', 'time', 'date', 'number'],\n",
    "    annotate={\"hashtag\", \"allcaps\", \"elongated\", \"repeated\", \"emphasis\", \"censored\"},\n",
    "    fix_html=True,\n",
    "    unpack_hashtags=True,\n",
    "    unpack_contractions=True,\n",
    "    spell_correct_elong=True,\n",
    "    tokenizer=SocialTokenizer(lowercase=True).tokenize,\n",
    "    dicts=[emoticons]\n",
    ")\n",
    "\n",
    "# Process data\n",
    "processed_data = pd.DataFrame()\n",
    "for column in data_set.columns:\n",
    "    processed_data[column] = data_set[column].astype(str).apply(\n",
    "        lambda row: \" \".join(text_processor.pre_process_doc(row)) if pd.notnull(row) else row\n",
    "    )"
   ]
  },
  {
   "cell_type": "code",
   "execution_count": null,
   "metadata": {},
   "outputs": [
    {
     "ename": "",
     "evalue": "",
     "output_type": "error",
     "traceback": [
      "\u001b[1;31mThe Kernel crashed while executing code in the current cell or a previous cell. \n",
      "\u001b[1;31mPlease review the code in the cell(s) to identify a possible cause of the failure. \n",
      "\u001b[1;31mClick <a href='https://aka.ms/vscodeJupyterKernelCrash'>here</a> for more info. \n",
      "\u001b[1;31mView Jupyter <a href='command:jupyter.viewOutput'>log</a> for further details."
     ]
    }
   ],
   "source": [
    "processed_data"
   ]
  }
 ],
 "metadata": {
  "kernelspec": {
   "display_name": "ai",
   "language": "python",
   "name": "python3"
  },
  "language_info": {
   "codemirror_mode": {
    "name": "ipython",
    "version": 3
   },
   "file_extension": ".py",
   "mimetype": "text/x-python",
   "name": "python",
   "nbconvert_exporter": "python",
   "pygments_lexer": "ipython3",
   "version": "3.12.1"
  }
 },
 "nbformat": 4,
 "nbformat_minor": 2
}

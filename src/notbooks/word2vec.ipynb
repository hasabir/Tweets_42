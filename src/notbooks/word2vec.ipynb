{
 "cells": [
  {
   "cell_type": "code",
   "execution_count": 9,
   "metadata": {},
   "outputs": [
    {
     "name": "stdout",
     "output_type": "stream",
     "text": [
      "0                  grooming season dawns madhya pradesh\n",
      "1                                                      \n",
      "2        free market tops real human rights sound great\n",
      "3                                        says bid enter\n",
      "4                                                      \n",
      "                            ...                        \n",
      "66              self dont buy thatalso im furry unhappy\n",
      "67    supreme court terms unfortunate grounds cited ...\n",
      "68                                            huh happy\n",
      "69                          sc refuses stop becoming cm\n",
      "70                            indian wants police cover\n",
      "Name: tweet, Length: 71, dtype: object\n"
     ]
    }
   ],
   "source": [
    "import sys\n",
    "import os\n",
    "sys.path.insert(0, os.path.abspath(os.path.join(os.getcwd(), '../')))\n",
    "\n",
    "from lib.data_preparation import DataPreparation\n",
    "from lib.preprocessing_data import Preprocessing\n",
    "\n",
    "\n",
    "\n",
    "\n",
    "\n",
    "\n",
    "\n",
    "\n",
    "\n",
    "\n",
    "\n",
    "data_set = DataPreparation().load_data()\n",
    "data_set = Preprocessing().tokenization(data_set)\n",
    "\n",
    "data_set = data_set.sample(frac=0.02).reset_index(drop=True)\n",
    "processed_tweets = data_set['processed_tweet']\n",
    "print(data_set['tweet'])\n",
    "\n"
   ]
  },
  {
   "cell_type": "code",
   "execution_count": 10,
   "metadata": {},
   "outputs": [],
   "source": [
    "# Create vocabulary\n",
    "\n",
    "vocab = set(word for tweet in processed_tweets for word in tweet)\n",
    "word_to_idx = {word: idx for idx, word in enumerate(vocab)}\n",
    "idx_to_word = {idx: word for word, idx in word_to_idx.items()}\n",
    "vocab_size = len(vocab)\n"
   ]
  },
  {
   "cell_type": "code",
   "execution_count": 11,
   "metadata": {},
   "outputs": [],
   "source": [
    "import numpy as np\n",
    "embedding_size = 71\n",
    "learning_rate = 0.1\n",
    "# Initialize embeddings\n",
    "main_embeddings = np.random.normal(0, 0.1, (vocab_size, embedding_size))\n",
    "context_embeddings = np.random.normal(0, 0.1, (vocab_size, embedding_size))"
   ]
  },
  {
   "cell_type": "code",
   "execution_count": 12,
   "metadata": {},
   "outputs": [],
   "source": [
    "def sigmoid(x):\n",
    "    # Numerically stable sigmoid function\n",
    "    return np.where(\n",
    "        x >= 0,\n",
    "        1 / (1 + np.exp(-x)),\n",
    "        np.exp(x) / (1 + np.exp(x))\n",
    "    )"
   ]
  },
  {
   "cell_type": "code",
   "execution_count": 13,
   "metadata": {},
   "outputs": [],
   "source": [
    "def normalize_embeddings(embeddings):\n",
    "    norms = np.linalg.norm(embeddings, axis=1, keepdims=True)\n",
    "    return embeddings / norms"
   ]
  },
  {
   "cell_type": "code",
   "execution_count": 14,
   "metadata": {},
   "outputs": [],
   "source": [
    "def get_negative_samples(vocab_size, exclude_idx, num_samples, word_freq):\n",
    "    \"\"\"Sample negative examples based on word frequencies.\"\"\"\n",
    "    probabilities = np.array([freq ** 0.75 for freq in word_freq])\n",
    "    probabilities /= probabilities.sum()\n",
    "\n",
    "    negative_samples = []\n",
    "    while len(negative_samples) < num_samples:\n",
    "        sampled_idx = np.random.choice(vocab_size, p=probabilities)\n",
    "        if sampled_idx != exclude_idx:\n",
    "            negative_samples.append(sampled_idx) \n",
    "    return negative_samples"
   ]
  },
  {
   "cell_type": "code",
   "execution_count": 15,
   "metadata": {},
   "outputs": [],
   "source": [
    "def update_embeddings(center_idx, context_idx, label):\n",
    "    # Update embeddings for one center-context pair\n",
    "    center_vector = main_embeddings[center_idx]\n",
    "    context_vector = context_embeddings[context_idx]\n",
    "\n",
    "    dot_product = np.dot(center_vector, context_vector)\n",
    "    prediction = sigmoid(dot_product)\n",
    "    error = label - prediction\n",
    "\n",
    "    # Gradient updates\n",
    "    grad_center = error * context_vector\n",
    "    grad_context = error * center_vector\n",
    "\n",
    "    main_embeddings[center_idx] += learning_rate * grad_center\n",
    "    context_embeddings[context_idx] += learning_rate * grad_context"
   ]
  },
  {
   "cell_type": "code",
   "execution_count": 16,
   "metadata": {},
   "outputs": [],
   "source": [
    "import matplotlib.pyplot as plt\n",
    "from scipy.spatial.distance import cosine\n",
    "\n",
    "\n",
    "def plot_words(debug):\n",
    "    plt.figure(figsize=(8,4))\n",
    "    \n",
    "    plt.subplot(1,2,1)\n",
    "    lim_main_first = main_embeddings.loc[[debug[0]]]\n",
    "    lim_main_second = main_embeddings.loc[[debug[1]]]\n",
    "    p1 = plt.scatter(lim_main_first[0], lim_main_first[1], color='r')\n",
    "    plt.arrow(0,0,float(lim_main_first[0]), float(lim_main_first[1]), head_width=0.01, length_includes_head=True)\n",
    "    for idx,row in lim_main_first.iterrows():\n",
    "        plt.text(row[0], row[1], str(idx))\n",
    "    p2 = plt.scatter(lim_main_second[0], lim_main_second[1], color='r')\n",
    "    plt.arrow(0,0,float(lim_main_second[0]), float(lim_main_second[1]), head_width=0.01, length_includes_head=True)\n",
    "    for idx,row in lim_main_second.iterrows():\n",
    "        plt.text(row[0], row[1], str(idx))\n",
    "    sim = 1 - cosine(main_embeddings.loc[debug[0]], main_embeddings.loc[debug[1]])\n",
    "    plt.title('Sim = %s'%round(sim,4), fontsize=20)\n",
    "    plt.axvline(0, color='k', linestyle='--', alpha=0.5)\n",
    "    plt.axhline(0, color='k', linestyle='--', alpha=0.5)\n",
    "    \n",
    "    t = np.arange(0, 3.14*2+0.1, 0.1)\n",
    "    plt.plot(np.cos(t), np.sin(t), linewidth=1, color='k', alpha=0.5, linestyle='--')\n",
    "    \n",
    "    ###################################\n",
    "    \n",
    "    plt.subplot(1,2,2)\n",
    "    lim_main = main_embeddings.loc[[debug[0]]]\n",
    "    lim_context = context_embeddings.loc[[debug[1]]]\n",
    "    p1 = plt.scatter(lim_main[0], lim_main[1], color='r')\n",
    "    plt.arrow(0,0,float(lim_main[0]), float(lim_main[1]), head_width=0.01, length_includes_head=True)\n",
    "    for idx,row in lim_main.iterrows():\n",
    "        plt.text(row[0], row[1], str(idx))\n",
    "    p2 = plt.scatter(lim_context[0], lim_context[1], color='b')\n",
    "    plt.arrow(0,0,float(lim_context[0]), float(lim_context[1]), head_width=0.01, length_includes_head=True)\n",
    "    for idx,row in lim_context.iterrows():\n",
    "        plt.text(row[0], row[1], str(idx))\n",
    "    sim = 1 - cosine(main_embeddings.loc[debug[0]], context_embeddings.loc[debug[1]])\n",
    "    plt.title('Sim = %s'%round(sim,4), fontsize=20)\n",
    "    plt.axvline(0, color='k', linestyle='--', alpha=0.5)\n",
    "    plt.axhline(0, color='k', linestyle='--', alpha=0.5)\n",
    "    \n",
    "    plt.plot(np.cos(t), np.sin(t), linewidth=1, color='k', alpha=0.5, linestyle='--')\n",
    "    \n",
    "    plt.show()"
   ]
  },
  {
   "cell_type": "code",
   "execution_count": 20,
   "metadata": {},
   "outputs": [
    {
     "ename": "AttributeError",
     "evalue": "'numpy.ndarray' object has no attribute 'loc'",
     "output_type": "error",
     "traceback": [
      "\u001b[0;31m---------------------------------------------------------------------------\u001b[0m",
      "\u001b[0;31mAttributeError\u001b[0m                            Traceback (most recent call last)",
      "Cell \u001b[0;32mIn[20], line 23\u001b[0m\n\u001b[1;32m     20\u001b[0m context_word_idx \u001b[38;5;241m=\u001b[39m word_to_idx[tweet[context_idx]]\n\u001b[1;32m     22\u001b[0m \u001b[38;5;66;03m# Positive sample\u001b[39;00m\n\u001b[0;32m---> 23\u001b[0m \u001b[43mplot_words\u001b[49m\u001b[43m(\u001b[49m\u001b[43m(\u001b[49m\u001b[38;5;124;43m'\u001b[39;49m\u001b[38;5;124;43mlike\u001b[39;49m\u001b[38;5;124;43m'\u001b[39;49m\u001b[43m,\u001b[49m\u001b[43m \u001b[49m\u001b[38;5;124;43m'\u001b[39;49m\u001b[38;5;124;43mhappy\u001b[39;49m\u001b[38;5;124;43m'\u001b[39;49m\u001b[43m)\u001b[49m\u001b[43m)\u001b[49m\n\u001b[1;32m     24\u001b[0m update_embeddings(center_word_idx, context_word_idx, \u001b[38;5;241m1\u001b[39m)\n\u001b[1;32m     26\u001b[0m \u001b[38;5;66;03m# Negative samples\u001b[39;00m\n",
      "Cell \u001b[0;32mIn[16], line 9\u001b[0m, in \u001b[0;36mplot_words\u001b[0;34m(debug)\u001b[0m\n\u001b[1;32m      6\u001b[0m plt\u001b[38;5;241m.\u001b[39mfigure(figsize\u001b[38;5;241m=\u001b[39m(\u001b[38;5;241m8\u001b[39m,\u001b[38;5;241m4\u001b[39m))\n\u001b[1;32m      8\u001b[0m plt\u001b[38;5;241m.\u001b[39msubplot(\u001b[38;5;241m1\u001b[39m,\u001b[38;5;241m2\u001b[39m,\u001b[38;5;241m1\u001b[39m)\n\u001b[0;32m----> 9\u001b[0m lim_main_first \u001b[38;5;241m=\u001b[39m \u001b[43mmain_embeddings\u001b[49m\u001b[38;5;241;43m.\u001b[39;49m\u001b[43mloc\u001b[49m[[debug[\u001b[38;5;241m0\u001b[39m]]]\n\u001b[1;32m     10\u001b[0m lim_main_second \u001b[38;5;241m=\u001b[39m main_embeddings\u001b[38;5;241m.\u001b[39mloc[[debug[\u001b[38;5;241m1\u001b[39m]]]\n\u001b[1;32m     11\u001b[0m p1 \u001b[38;5;241m=\u001b[39m plt\u001b[38;5;241m.\u001b[39mscatter(lim_main_first[\u001b[38;5;241m0\u001b[39m], lim_main_first[\u001b[38;5;241m1\u001b[39m], color\u001b[38;5;241m=\u001b[39m\u001b[38;5;124m'\u001b[39m\u001b[38;5;124mr\u001b[39m\u001b[38;5;124m'\u001b[39m)\n",
      "\u001b[0;31mAttributeError\u001b[0m: 'numpy.ndarray' object has no attribute 'loc'"
     ]
    },
    {
     "data": {
      "image/png": "[encoded data removed]",
      "text/plain": [
       "<Figure size 800x400 with 1 Axes>"
      ]
     },
     "metadata": {},
     "output_type": "display_data"
    }
   ],
   "source": [
    "from collections import Counter\n",
    "\n",
    "word_counts = Counter(word for tweet in processed_tweets for word in tweet)\n",
    "word_freq = np.array([word_counts[word] for word in vocab])\n",
    "\n",
    "epochs = 10\n",
    "window_size = 3\n",
    "num_negative_samples=3\n",
    "# Training Loop\n",
    "for epoch in range(epochs):\n",
    "    for tweet in processed_tweets:\n",
    "        for center_idx, center_word in enumerate(tweet):\n",
    "            center_word_idx = word_to_idx[center_word]\n",
    "            start = max(center_idx - window_size, 0)\n",
    "            end = min(center_idx + window_size + 1, len(tweet))\n",
    "\n",
    "            for context_idx in range(start, end):\n",
    "                if center_idx == context_idx:\n",
    "                    continue\n",
    "                context_word_idx = word_to_idx[tweet[context_idx]]\n",
    "\n",
    "                # Positive sample\n",
    "                plot_words(('like', 'happy'))\n",
    "                update_embeddings(center_word_idx, context_word_idx, 1)\n",
    "\n",
    "                # Negative samples\n",
    "                negative_samples = get_negative_samples(vocab_size, center_word_idx, num_negative_samples, word_freq)\n",
    "                for negative_idx in negative_samples:\n",
    "                    update_embeddings(center_word_idx, negative_idx, 0)\n",
    "\n",
    "    # Normalize embeddings after each epoch\n",
    "    main_embeddings = normalize_embeddings(main_embeddings)\n",
    "    \n",
    "    context_embeddings = normalize_embeddings(context_embeddings)\n",
    "    # print(f\"Epoch {epoch + 1}/{epochs} completed\")\n",
    "# plot_words(['like', 'happy'])\n",
    "\n"
   ]
  },
  {
   "cell_type": "code",
   "execution_count": null,
   "metadata": {},
   "outputs": [],
   "source": []
  },
  {
   "cell_type": "code",
   "execution_count": null,
   "metadata": {},
   "outputs": [],
   "source": [
    "import matplotlib.pyplot as plt\n",
    "\n",
    "def plot_word_vectors(word_list, embeddings, word_to_idx):\n",
    "    \"\"\"\n",
    "    Visualizes the vectors of given words in 2D space.\n",
    "    \n",
    "    Parameters:\n",
    "        word_list (list): List of words to visualize.\n",
    "        embeddings (numpy.ndarray): Embedding matrix.\n",
    "        word_to_idx (dict): Mapping of words to their indices.\n",
    "    \"\"\"\n",
    "    if len(word_list) > 2:\n",
    "        raise ValueError(\"Please provide exactly two words for visualization.\")\n",
    "    \n",
    "    # Extract vectors for the given words\n",
    "    vectors = np.array([embeddings[word_to_idx[word]] for word in word_list])\n",
    "    \n",
    "    # Plot vectors in 2D space\n",
    "    plt.figure(figsize=(8, 6))\n",
    "    origin = [0, 0]\n",
    "    for word, vector in zip(word_list, vectors):\n",
    "        plt.quiver(\n",
    "            *origin, vector[0], vector[1], scale=1, scale_units='xy', angles='xy',\n",
    "            color=np.random.rand(3,), label=word\n",
    "        )\n",
    "        plt.text(vector[0] * 1.1, vector[1] * 1.1, word, fontsize=12, color='red')\n",
    "    \n",
    "    plt.xlim(-1, 1)\n",
    "    plt.ylim(-1, 1)\n",
    "    plt.axhline(0, color='gray', linestyle='--')\n",
    "    plt.axvline(0, color='gray', linestyle='--')\n",
    "    plt.grid()\n",
    "    plt.legend()\n",
    "    plt.title(\"Word Vector Visualization\")\n",
    "    plt.show()\n",
    "\n",
    "# Example words to visualize (ensure they exist in your vocab)\n",
    "words_to_visualize = ['unhappy', 'better']  # Replace with actual words from your vocabulary\n",
    "plot_word_vectors(words_to_visualize, main_embeddings, word_to_idx)\n"
   ]
  },
  {
   "cell_type": "code",
   "execution_count": null,
   "metadata": {},
   "outputs": [],
   "source": [
    "# import numpy as np\n",
    "# import matplotlib.pyplot as plt\n",
    "# from sklearn.decomposition import PCA\n",
    "\n",
    "# # Example embeddings (assuming main_embeddings is already populated)\n",
    "# # Replace with actual embedding vectors during training\n",
    "# main_embeddings = np.random.rand(100, 50)  # Example of 100 words with 50-dimensional vectors\n",
    "# context_embeddings = np.random.rand(100, 50)\n",
    "\n",
    "# # Choose two example words to visualize\n",
    "# example_words = [\"thanks\", \"happy\"]  # Replace with actual words in your vocabulary\n",
    "# example_indices = [word_to_idx[word] for word in example_words]\n",
    "\n",
    "# # Get their embeddings\n",
    "# example_vectors = main_embeddings[example_indices]\n",
    "\n",
    "# # Reduce to 2D for visualization using PCA\n",
    "# pca = PCA(n_components=2)\n",
    "# reduced_vectors = pca.fit_transform(example_vectors)\n",
    "\n",
    "# # Visualize the vectors\n",
    "# plt.figure(figsize=(8, 6))\n",
    "# for i, word in enumerate(example_words):\n",
    "#     plt.scatter(reduced_vectors[i, 0], reduced_vectors[i, 1], label=word, s=100)\n",
    "#     plt.text(reduced_vectors[i, 0] + 0.02, reduced_vectors[i, 1], word, fontsize=12)\n",
    "\n",
    "# plt.title(\"Visualization of Word Embeddings\")\n",
    "# plt.xlabel(\"PCA Component 1\")\n",
    "# plt.ylabel(\"PCA Component 2\")\n",
    "# plt.legend()\n",
    "# plt.grid(True)\n",
    "plt.show()\n"
   ]
  }
 ],
 "metadata": {
  "kernelspec": {
   "display_name": "ai",
   "language": "python",
   "name": "python3"
  },
  "language_info": {
   "codemirror_mode": {
    "name": "ipython",
    "version": 3
   },
   "file_extension": ".py",
   "mimetype": "text/x-python",
   "name": "python",
   "nbconvert_exporter": "python",
   "pygments_lexer": "ipython3",
   "version": "3.12.1"
  }
 },
 "nbformat": 4,
 "nbformat_minor": 2
}

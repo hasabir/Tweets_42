{
 "cells": [
  {
   "cell_type": "code",
   "execution_count": null,
   "metadata": {},
   "outputs": [],
   "source": [
    "import sys\n",
    "import os\n",
    "sys.path.insert(0, os.path.abspath(os.path.join(os.getcwd(), '../')))\n",
    "\n",
    "from lib.data_preparation import DataPreparation\n",
    "from lib.preprocessing_data import Preprocessing\n",
    "from lib.vectorization import Vectorization\n",
    "\n",
    "\n",
    "data_set = DataPreparation().load_data()\n",
    "data_set = data_set.sample(frac=0.005).reset_index(drop=True)\n",
    "data_set"
   ]
  },
  {
   "cell_type": "code",
   "execution_count": null,
   "metadata": {},
   "outputs": [],
   "source": [
    "\n",
    "processed_data = Preprocessing().tokenization(data_set)\n",
    "tweet_vectors = Vectorization().vectorize_with_tfidf(processed_data=processed_data)"
   ]
  },
  {
   "cell_type": "code",
   "execution_count": null,
   "metadata": {},
   "outputs": [],
   "source": [
    "import pandas as pd\n",
    "from sklearn.metrics.pairwise import cosine_similarity\n",
    "\n",
    "similarity_matrix = cosine_similarity(tweet_vectors)\n",
    "similarity_df = pd.DataFrame(similarity_matrix)\n",
    "\n"
   ]
  },
  {
   "cell_type": "code",
   "execution_count": null,
   "metadata": {},
   "outputs": [],
   "source": [
    "import numpy as np\n",
    "\n",
    "similarities = []\n",
    "for i in range(similarity_matrix.shape[0]):\n",
    "    for j in range(i + 1, similarity_matrix.shape[1]):  # Avoid duplicate pairs and self-similarity\n",
    "        similarities.append((i, j, similarity_matrix[i, j]))\n",
    "\n",
    "similarity_pairs = pd.DataFrame(similarities, columns=[\"tweet_1\", \"tweet_2\", \"similarity\"])\n",
    "top_10_similar_pairs = similarity_pairs.sort_values(by=\"similarity\", ascending=False).head(10)\n",
    "\n",
    "top_10_similar_pairs\n",
    "\n",
    "# for _, row in top_10_similar_pairs.iterrows():\n",
    "#     tweet_1_index = int(row[\"tweet_1\"])\n",
    "#     tweet_2_index = int(row[\"tweet_2\"])\n",
    "#     similarity = row[\"similarity\"]\n",
    "    \n",
    "#     print(f\"Similarity: {similarity:.2f}\")\n",
    "#     print(f\"Tweet 1 (index {tweet_1_index}): {data_set.iloc[tweet_1_index]['tweet']}\")\n",
    "#     print(f\"Tweet 2 (index {tweet_2_index}): {data_set.iloc[tweet_2_index]['tweet']}\")\n",
    "#     print(\"-\" * 50)\n"
   ]
  }
 ],
 "metadata": {
  "kernelspec": {
   "display_name": "ai",
   "language": "python",
   "name": "python3"
  },
  "language_info": {
   "codemirror_mode": {
    "name": "ipython",
    "version": 3
   },
   "file_extension": ".py",
   "mimetype": "text/x-python",
   "name": "python",
   "nbconvert_exporter": "python",
   "pygments_lexer": "ipython3",
   "version": "3.12.1"
  }
 },
 "nbformat": 4,
 "nbformat_minor": 2
}

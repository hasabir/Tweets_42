{
 "cells": [
  {
   "cell_type": "code",
   "execution_count": 1,
   "metadata": {},
   "outputs": [],
   "source": [
    "import sys\n",
    "import os\n",
    "sys.path.insert(0, os.path.abspath(os.path.join(os.getcwd(), '../')))\n",
    "from scipy.sparse import csr_matrix\n",
    "\n"
   ]
  },
  {
   "cell_type": "code",
   "execution_count": 23,
   "metadata": {},
   "outputs": [
    {
     "name": "stdout",
     "output_type": "stream",
     "text": [
      "Top 10 similar tweets for preprocessing methodlemmatization_with_stop-words_removal_TF-IDF\n",
      "Tweet: thanks for the recent follow happy to connect happy  have a great thursday  want this \n",
      "Tweet:  migrated in  to shield their capital \n",
      "Tweet: yay another art raffle everything you need to know is in the picture d\n",
      "Tweet: seokjinie went to everland today i guess he forgot that hes an idol\n",
      "Tweet:  does it have flip out scr \n",
      "Tweet:  and have fun \n",
      "Tweet: is that store still in use if so\n",
      "Tweet: nan\n",
      "Tweet:  assumes im outsider because of my \n",
      "Tweet:   bikes\n",
      "**************************************************\n"
     ]
    }
   ],
   "source": [
    "import pandas as pd\n",
    "from sklearn.metrics.pairwise import cosine_similarity\n",
    "\n",
    "data_set = pd.read_csv(\"../data/raw_splits/train.csv\")\n",
    "\n",
    "\n",
    "top_10_similar_tweets = pd.DataFrame()\n",
    "\n",
    "for root, _, files in os.walk(\"../data/prepocessed_training_data\"):\n",
    "    for file in files:\n",
    "        print(f\"Top 10 similar tweets for preprocessing method{file[:-4]}\")\n",
    "        tweet_vectors = pd.read_csv(f\"{root}/{file}\")\n",
    "        # tweet_vectors.reset_index(drop=True, inplace=True)\n",
    "\n",
    "        similarity_matrix = cosine_similarity(tweet_vectors)\n",
    "        similarity_df = pd.DataFrame(similarity_matrix)\n",
    "        \n",
    "        tweet_similarity_scores = similarity_df.sum(axis=1) - 1  \n",
    "        \n",
    "        top_10_similar_tweets = tweet_similarity_scores.nlargest(10)\n",
    "\n",
    "        tweet_vectors = tweet_vectors.drop(index=top_10_similar_tweets.index[1:])\n",
    "        \n",
    "        \n",
    "        \n",
    "        for i in range(10):\n",
    "            tweet_index = top_10_similar_tweets.index[i]\n",
    "            similarity = top_10_similar_tweets.iloc[i]\n",
    "            print(f\"Tweet: {data_set.iloc[tweet_index]['tweet']}\")\n",
    "        print(\"*\" * 50)\n",
    "        break\n",
    "    break\n"
   ]
  },
  {
   "cell_type": "code",
   "execution_count": 12,
   "metadata": {},
   "outputs": [
    {
     "data": {
      "text/html": [
       "<div>\n",
       "<style scoped>\n",
       "    .dataframe tbody tr th:only-of-type {\n",
       "        vertical-align: middle;\n",
       "    }\n",
       "\n",
       "    .dataframe tbody tr th {\n",
       "        vertical-align: top;\n",
       "    }\n",
       "\n",
       "    .dataframe thead th {\n",
       "        text-align: right;\n",
       "    }\n",
       "</style>\n",
       "<table border=\"1\" class=\"dataframe\">\n",
       "  <thead>\n",
       "    <tr style=\"text-align: right;\">\n",
       "      <th></th>\n",
       "      <th>A</th>\n",
       "      <th>B</th>\n",
       "      <th>C</th>\n",
       "      <th>D</th>\n",
       "    </tr>\n",
       "  </thead>\n",
       "  <tbody>\n",
       "    <tr>\n",
       "      <th>1</th>\n",
       "      <td>4</td>\n",
       "      <td>5</td>\n",
       "      <td>6</td>\n",
       "      <td>7</td>\n",
       "    </tr>\n",
       "  </tbody>\n",
       "</table>\n",
       "</div>"
      ],
      "text/plain": [
       "   A  B  C  D\n",
       "1  4  5  6  7"
      ]
     },
     "execution_count": 12,
     "metadata": {},
     "output_type": "execute_result"
    }
   ],
   "source": []
  }
 ],
 "metadata": {
  "kernelspec": {
   "display_name": "ai",
   "language": "python",
   "name": "python3"
  },
  "language_info": {
   "codemirror_mode": {
    "name": "ipython",
    "version": 3
   },
   "file_extension": ".py",
   "mimetype": "text/x-python",
   "name": "python",
   "nbconvert_exporter": "python",
   "pygments_lexer": "ipython3",
   "version": "3.10.16"
  }
 },
 "nbformat": 4,
 "nbformat_minor": 2
}

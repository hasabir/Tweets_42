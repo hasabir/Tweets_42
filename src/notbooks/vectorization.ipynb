{
 "cells": [
  {
   "cell_type": "markdown",
   "metadata": {},
   "source": [
    "### Load data"
   ]
  },
  {
   "cell_type": "code",
   "execution_count": null,
   "metadata": {},
   "outputs": [],
   "source": [
    "import sys\n",
    "import os\n",
    "sys.path.insert(0, os.path.abspath(os.path.join(os.getcwd(), '../')))\n",
    "\n",
    "from lib.data_preparation import DataPreparation\n",
    "from lib.preprocessing_data import Preprocessing\n",
    "\n",
    "\n",
    "data_set = DataPreparation().load_data()\n",
    "data_set = Preprocessing().lemmatization(data_set)\n",
    "\n",
    "data_set = data_set.sample(frac=0.005).reset_index(drop=True)\n",
    "data_set"
   ]
  },
  {
   "cell_type": "markdown",
   "metadata": {},
   "source": [
    "---\n",
    "# Bag Of Words"
   ]
  },
  {
   "cell_type": "code",
   "execution_count": null,
   "metadata": {},
   "outputs": [],
   "source": [
    "from sklearn.feature_extraction.text import CountVectorizer\n",
    "\n",
    "vectorizer = CountVectorizer()\n",
    "\n",
    "import pandas as pd\n",
    "\n",
    "processed_data = Preprocessing.tokenization(data_set)\n",
    "\n",
    "text_data = processed_data['processed_tweet'].apply(lambda row: ' '.join(row))\n",
    "\n",
    "bow_vector = vectorizer.fit_transform(text_data)\n",
    "\n",
    "\n",
    "transformed_output = vectorizer.transform(text_data)\n",
    "feature_names = vectorizer.get_feature_names_out()\n",
    "dense_output = transformed_output.todense()\n",
    "visulize_bow_vector = pd.DataFrame(\n",
    "    dense_output, \n",
    "    columns=feature_names,\n",
    "    index=text_data.index \n",
    ")\n",
    "\n",
    "visulize_bow_vector\n"
   ]
  },
  {
   "cell_type": "code",
   "execution_count": null,
   "metadata": {},
   "outputs": [],
   "source": [
    "import seaborn as sns\n",
    "import matplotlib.pyplot as plt\n",
    "\n",
    "# plt.figure(figsize=(15, 8))\n",
    "plt.figure(figsize=(15, 8), facecolor='lightgray')\n",
    "sns.heatmap(visulize_bow_vector, cmap=\"YlGnBu\", annot=False, cbar=True)\n",
    "plt.title(\"Bag-of-Words Model Heatmap\")\n",
    "plt.xlabel(\"Features (Words)\")\n",
    "plt.ylabel(\"Documents\")\n",
    "plt.show()"
   ]
  },
  {
   "cell_type": "markdown",
   "metadata": {},
   "source": [
    "---\n",
    "# 0 or 1, if the word exist (Binary/Count Vectorizer)"
   ]
  },
  {
   "cell_type": "code",
   "execution_count": null,
   "metadata": {},
   "outputs": [],
   "source": [
    "from sklearn.feature_extraction.text import CountVectorizer, TfidfVectorizer\n",
    "\n",
    "vectorizer = CountVectorizer(binary=True)\n",
    "\n",
    "import pandas as pd\n",
    "\n",
    "processed_data = Preprocessing.tokenization(data_set)\n",
    "\n",
    "text_data = processed_data['processed_tweet'].apply(lambda row: ' '.join(row))\n",
    "\n",
    "binary_vector = vectorizer.fit_transform(text_data)\n",
    "\n",
    "transformed_output = vectorizer.transform(text_data)\n",
    "feature_names = vectorizer.get_feature_names_out()\n",
    "dense_output = transformed_output.todense()\n",
    "visulize_binary_vector = pd.DataFrame(\n",
    "    dense_output, \n",
    "    columns=feature_names,\n",
    "    index=text_data.index \n",
    ")\n",
    "\n",
    "visulize_binary_vector\n"
   ]
  },
  {
   "cell_type": "markdown",
   "metadata": {},
   "source": [
    "---\n",
    "# Term Frequency-Inverse Document Frequency (TF-IDF)"
   ]
  },
  {
   "cell_type": "code",
   "execution_count": null,
   "metadata": {},
   "outputs": [],
   "source": [
    "vectorizer = TfidfVectorizer()\n",
    "\n",
    "processed_data = Preprocessing.tokenization(data_set)\n",
    "text_data = processed_data['processed_tweet'].apply(lambda row: ' '.join(row))\n",
    "\n",
    "tf_idf_vector = vectorizer.fit_transform(text_data)\n",
    "\n",
    "transformed_output = vectorizer.transform(text_data)\n",
    "feature_names = vectorizer.get_feature_names_out()\n",
    "dense_output = transformed_output.todense()\n",
    "visulize_tf_idf_vector = pd.DataFrame(\n",
    "    dense_output, \n",
    "    columns=feature_names,\n",
    "    index=text_data.index \n",
    ")\n",
    "visulize_tf_idf_vector\n"
   ]
  },
  {
   "cell_type": "code",
   "execution_count": null,
   "metadata": {},
   "outputs": [],
   "source": [
    "import seaborn as sns\n",
    "import matplotlib.pyplot as plt\n",
    "\n",
    "# plt.figure(figsize=(15, 8))\n",
    "plt.figure(figsize=(15, 8), facecolor='lightgray')\n",
    "sns.heatmap(visulize_tf_idf_vector, cmap=\"YlGnBu\", annot=False, cbar=True)\n",
    "plt.title(\"tf-idf Model Heatmap\")\n",
    "plt.xlabel(\"Features (Words)\")\n",
    "plt.ylabel(\"Documents\")\n",
    "plt.show()"
   ]
  }
 ],
 "metadata": {
  "kernelspec": {
   "display_name": "ai",
   "language": "python",
   "name": "python3"
  },
  "language_info": {
   "codemirror_mode": {
    "name": "ipython",
    "version": 3
   },
   "file_extension": ".py",
   "mimetype": "text/x-python",
   "name": "python",
   "nbconvert_exporter": "python",
   "pygments_lexer": "ipython3",
   "version": "3.10.16"
  }
 },
 "nbformat": 4,
 "nbformat_minor": 2
}

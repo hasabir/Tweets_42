{
 "cells": [
  {
   "cell_type": "code",
   "execution_count": 2,
   "metadata": {},
   "outputs": [],
   "source": [
    "import pandas as pd\n",
    "import numpy as np \n",
    "import matplotlib.pyplot as plt\n",
    "import seaborn as sns\n",
    "\n",
    "\n",
    "plt.style.use('ggplot')\n",
    "\n",
    "import nltk"
   ]
  },
  {
   "cell_type": "code",
   "execution_count": 4,
   "metadata": {},
   "outputs": [],
   "source": [
    "positif = pd.read_csv('../data/raw/processedPositive.csv', header=None).T.squeeze()\n",
    "negatif = pd.read_csv('../data/raw/processedNegative.csv', header=None).T.squeeze()\n",
    "netral = pd.read_csv('../data/raw/processedNeutral.csv', header=None).T.squeeze()"
   ]
  },
  {
   "cell_type": "code",
   "execution_count": 54,
   "metadata": {},
   "outputs": [],
   "source": [
    "positive = pd.DataFrame()\n",
    "negative = pd.DataFrame()\n",
    "neutral = pd.DataFrame()\n",
    "\n",
    "positive[\"positive\"] = pd.read_csv('../data/raw/processedPositive.csv', header=None ).T.squeeze()\n",
    "negative[\"negative\"] = pd.read_csv('../data/raw/processedNegative.csv', header=None).T.squeeze()\n",
    "neutral[\"neutral\"] = pd.read_csv('../data/raw/processedNeutral.csv', header=None).T.squeeze()\n",
    "\n",
    "merged = pd.merge(positive, negative, left_index=True, right_index=True)\n",
    "data_frame = pd.merge(merged, neutral, left_index=True, right_index=True)\n",
    "\n",
    "\n",
    "data_frame = data_frame.fillna('').astype(str)\n",
    "# data_frame = data_frame.sample(frac=0.2, random_state=1)\n"
   ]
  },
  {
   "cell_type": "markdown",
   "metadata": {},
   "source": [
    "### Tokenization"
   ]
  },
  {
   "cell_type": "code",
   "execution_count": null,
   "metadata": {},
   "outputs": [],
   "source": [
    "def tokenization(data_frame) -> list:\n",
    "    tokenizer = tokenizer = nltk.tokenize.RegexpTokenizer(r'\\w+')\n",
    "    tokens = []\n",
    "    for data in data_frame:\n",
    "        tokens.append(tokenizer.tokenize(data))\n",
    "    return tokens\n",
    "\n"
   ]
  },
  {
   "cell_type": "code",
   "execution_count": 97,
   "metadata": {},
   "outputs": [
    {
     "name": "stdout",
     "output_type": "stream",
     "text": [
      "['An', 'inspiration', 'in', 'all', 'aspects', 'Fashion']\n"
     ]
    }
   ],
   "source": [
    "tokens_positive = tokenization(data_frame=data_frame[\"positive\"])\n",
    "print(tokens_positive[0])"
   ]
  },
  {
   "cell_type": "markdown",
   "metadata": {},
   "source": [
    "### Stemmming"
   ]
  },
  {
   "cell_type": "code",
   "execution_count": 100,
   "metadata": {},
   "outputs": [],
   "source": [
    "from nltk.stem import PorterStemmer\n",
    "\n",
    "\n",
    "def stemming(data_frame) -> list:\n",
    "    stemmer = PorterStemmer()\n",
    "    stemmed_words = []\n",
    "    for data in data_frame:\n",
    "        stemmed_words.append([stemmer.stem(word) for word in data])\n",
    "    return stemmed_words\n"
   ]
  },
  {
   "cell_type": "code",
   "execution_count": null,
   "metadata": {},
   "outputs": [],
   "source": [
    "stemmed_words = stemming(tokens_positive)\n",
    "print(stemmed_words)"
   ]
  },
  {
   "cell_type": "markdown",
   "metadata": {},
   "source": [
    "### Lemmatization"
   ]
  },
  {
   "cell_type": "code",
   "execution_count": null,
   "metadata": {},
   "outputs": [],
   "source": [
    "import spacy\n",
    "\n",
    "    \n",
    "def lemmatization(data_frame) -> list:\n",
    "    spacy.load('en_core_web_sm')\n",
    "    lemmatized_words = []\n",
    "    for data in data_frame:\n",
    "        # doc = nlp(data)\n",
    "        lemmatized_words.append([token.lemma_ for token in data])\n",
    "    return lemmatized_words"
   ]
  },
  {
   "cell_type": "markdown",
   "metadata": {},
   "source": [
    "### Stemming + misspellings"
   ]
  },
  {
   "cell_type": "code",
   "execution_count": null,
   "metadata": {},
   "outputs": [],
   "source": []
  }
 ],
 "metadata": {
  "kernelspec": {
   "display_name": "ai",
   "language": "python",
   "name": "python3"
  },
  "language_info": {
   "codemirror_mode": {
    "name": "ipython",
    "version": 3
   },
   "file_extension": ".py",
   "mimetype": "text/x-python",
   "name": "python",
   "nbconvert_exporter": "python",
   "pygments_lexer": "ipython3",
   "version": "3.12.4"
  }
 },
 "nbformat": 4,
 "nbformat_minor": 2
}

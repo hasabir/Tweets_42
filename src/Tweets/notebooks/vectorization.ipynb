{
 "cells": [
  {
   "cell_type": "markdown",
   "metadata": {},
   "source": [
    "### Load data"
   ]
  },
  {
   "cell_type": "code",
   "execution_count": 1,
   "metadata": {},
   "outputs": [
    {
     "name": "stderr",
     "output_type": "stream",
     "text": [
      "[nltk_data] Downloading package words to /home/hasabir/nltk_data...\n",
      "[nltk_data]   Package words is already up-to-date!\n"
     ]
    }
   ],
   "source": [
    "import sys\n",
    "import os\n",
    "sys.path.insert(0, os.path.abspath(os.path.join(os.getcwd(), '../')))\n",
    "\n",
    "from src.preprocessing import Preprocessing\n",
    "from src.data_cleaning import DataCleaning\n",
    "\n",
    "\n",
    "data_frame = DataCleaning.load_data()"
   ]
  },
  {
   "cell_type": "markdown",
   "metadata": {},
   "source": [
    "---\n"
   ]
  },
  {
   "cell_type": "markdown",
   "metadata": {},
   "source": [
    "----"
   ]
  },
  {
   "cell_type": "markdown",
   "metadata": {},
   "source": [
    "# Bag of words (BoW)"
   ]
  },
  {
   "cell_type": "markdown",
   "metadata": {},
   "source": [
    "----"
   ]
  },
  {
   "cell_type": "code",
   "execution_count": null,
   "metadata": {},
   "outputs": [],
   "source": [
    "def bag_of_words(data_frame: list) -> dict:\n",
    "    bag_of_words = {}\n",
    "    for data in data_frame:\n",
    "        for word in data:\n",
    "            if word in bag_of_words:\n",
    "                bag_of_words[word] += 1\n",
    "            else:\n",
    "                bag_of_words[word] = 1\n",
    "    return bag_of_words"
   ]
  },
  {
   "cell_type": "code",
   "execution_count": null,
   "metadata": {},
   "outputs": [],
   "source": [
    "import pandas as pd\n",
    "\n",
    "def generate_bow_vectors(tokens_positive, tokens_negative, tokens_neutral):\n",
    "    positive_bow = pd.DataFrame.from_dict(bag_of_words(tokens_positive), orient='index', columns=['Positive']).T\n",
    "    negative_bow = pd.DataFrame.from_dict(bag_of_words(tokens_negative), orient='index', columns=['Negative']).T\n",
    "    neutral_bow = pd.DataFrame.from_dict(bag_of_words(tokens_neutral), orient='index', columns=['Neutral']).T\n",
    "\n",
    "    bow_vectors = pd.concat([positive_bow, negative_bow, neutral_bow], axis=0)\n",
    "    bow_vectors.fillna(0, inplace=True)\n",
    "\n",
    "    return bow_vectors\n"
   ]
  },
  {
   "cell_type": "markdown",
   "metadata": {},
   "source": [
    "#### Bag of words with just tokenization"
   ]
  },
  {
   "cell_type": "code",
   "execution_count": 21,
   "metadata": {},
   "outputs": [],
   "source": [
    "\n",
    "tokens_positive = Preprocessing.tokenization(data_frame[\"positive\"])\n",
    "tokens_negative = Preprocessing.tokenization(data_frame[\"negative\"])\n",
    "tokens_neutral = Preprocessing.tokenization(data_frame[\"neutral\"])\n",
    "\n",
    "bow_vectors = generate_bow_vectors(tokens_positive, tokens_negative, tokens_neutral)\n",
    "bow_vectors.to_csv(\"bow_vectors.csv\")"
   ]
  },
  {
   "cell_type": "markdown",
   "metadata": {},
   "source": [
    "#### Bag of words with stemming"
   ]
  },
  {
   "cell_type": "code",
   "execution_count": null,
   "metadata": {},
   "outputs": [],
   "source": [
    "stemming_positive = Preprocessing.stemming(data_frame=data_frame[\"positive\"])\n",
    "stemming_negative = Preprocessing.stemming(data_frame=data_frame[\"negative\"])\n",
    "stemming_neutral = Preprocessing.stemming(data_frame=data_frame[\"neutral\"])\n",
    "\n",
    "\n",
    "bow_vectors_stemming = generate_bow_vectors(stemming_positive, stemming_negative, stemming_neutral)\n",
    "bow_vectors_stemming"
   ]
  },
  {
   "cell_type": "markdown",
   "metadata": {},
   "source": [
    "#### BoW with Lemmatization"
   ]
  },
  {
   "cell_type": "code",
   "execution_count": null,
   "metadata": {},
   "outputs": [],
   "source": [
    "lemmatization_positive = Preprocessing.lemmatization(data_frame=data_frame[\"positive\"])\n",
    "lemmatization_negative = Preprocessing.lemmatization(data_frame=data_frame[\"negative\"])\n",
    "lemmatization_neutral = Preprocessing.lemmatization(data_frame=data_frame[\"neutral\"])\n",
    "\n",
    "bow_vectors_lemmatization = generate_bow_vectors(lemmatization_positive, lemmatization_negative, lemmatization_neutral)\n",
    "bow_vectors_lemmatization "
   ]
  },
  {
   "cell_type": "markdown",
   "metadata": {},
   "source": [
    "### Term Frequency-Inverse Document Frequency (TF-IDF)"
   ]
  },
  {
   "cell_type": "code",
   "execution_count": 27,
   "metadata": {},
   "outputs": [],
   "source": [
    "def tf_idf(data_set):\n",
    "    pass"
   ]
  },
  {
   "cell_type": "code",
   "execution_count": null,
   "metadata": {},
   "outputs": [],
   "source": []
  },
  {
   "cell_type": "markdown",
   "metadata": {},
   "source": []
  }
 ],
 "metadata": {
  "kernelspec": {
   "display_name": "ai",
   "language": "python",
   "name": "python3"
  },
  "language_info": {
   "codemirror_mode": {
    "name": "ipython",
    "version": 3
   },
   "file_extension": ".py",
   "mimetype": "text/x-python",
   "name": "python",
   "nbconvert_exporter": "python",
   "pygments_lexer": "ipython3",
   "version": "3.12.4"
  }
 },
 "nbformat": 4,
 "nbformat_minor": 2
}
